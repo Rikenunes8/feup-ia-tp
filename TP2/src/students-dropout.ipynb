{
 "cells": [
  {
   "cell_type": "markdown",
   "metadata": {},
   "source": [
    "# Supervised Learning - Classification Problem\n",
    "\n",
    "## Students' dropout and academic success\n",
    "\n",
    "### (Droupout, Enrolled, Graduate)\n",
    "\n",
    "Faculdade: FEUP - Faculdade de Engenharia da Universidade do Porto\n",
    "\n",
    "Curso: L.EIC - Licenciatura em Engenharia Informática e Computação \n",
    "\n",
    "Unidade Curricular: Inteligência Artificial\n",
    "\n",
    "Ano Curricular: 2021/22\n",
    "\n",
    "Grupo: 21_1D\n",
    "\n",
    "Elementos:\n",
    "- Henrique Ribeiro Nunes, up201906852@up.pt\n",
    "- Margarida Assis Ferreira, up201905046@up.pt\n",
    "- Patrícia do Carmo Nunes Oliveira, up201905427@up.pt"
   ]
  },
  {
   "cell_type": "markdown",
   "metadata": {},
   "source": [
    "### Especificação\n",
    "\n",
    "O foco principal deste problema é analisar a informação conhecida sobre a matrícula do aluno (percurso acadêmico, demografia e fatores socioeconómicos) e o desempenho académico dos alunos no final do primeiro e segundo semestres. Com o objetivo de usar estes dados para construir modelos de classificação para **prever a desistência e o sucesso académico dos alunos**.\n",
    "\n",
    "Este problema é um ***single label multiclass classification problem*** com 37 atributos:\n",
    "- 36 métricas distintas para descrever as informações do aluno.\n",
    "- 1 objetivo com 3 resultados possíveis (*Droupout*, *Enrolled*, *Graduate*).\n",
    "\n",
    "Existe um **forte desbalanceamento** em relação a um dos resultados possíveis.\n",
    "\n",
    "\n",
    "### Tools & Resources\n",
    "\n",
    "// TODO AQUI "
   ]
  },
  {
   "cell_type": "markdown",
   "metadata": {},
   "source": [
    "## Data Analysis\n",
    "\n",
    "A análise dos dados é um passo importante nos problemas de classificação. \n",
    "\n",
    "Nesta secção são analisados os atributos que classificam os dados e o tipo e intervalo de valores de cada um dos atributos, bem como o tamanho do conjunto de dados, a presença de valores nulos ou amostras duplicadas. Igualmente é explorado a distribuição das classes e de valores por atributos."
   ]
  },
  {
   "cell_type": "code",
   "execution_count": 59,
   "metadata": {},
   "outputs": [],
   "source": [
    "import pandas as pd\n",
    "import numpy as np\n",
    "import matplotlib.pyplot as plt\n",
    "import seaborn as sb"
   ]
  },
  {
   "cell_type": "code",
   "execution_count": 60,
   "metadata": {},
   "outputs": [],
   "source": [
    "SAVE_FILE = False"
   ]
  },
  {
   "cell_type": "code",
   "execution_count": 61,
   "metadata": {},
   "outputs": [],
   "source": [
    "# Load data\n",
    "data = pd.read_csv(\"data/data.csv\")"
   ]
  },
  {
   "cell_type": "code",
   "execution_count": 62,
   "metadata": {
    "scrolled": true
   },
   "outputs": [
    {
     "name": "stdout",
     "output_type": "stream",
     "text": [
      "       Marital status  Application mode  Application order       Course  \\\n",
      "count     4424.000000       4424.000000        4424.000000  4424.000000   \n",
      "mean         1.178571         18.669078           1.727848  8856.642631   \n",
      "std          0.605747         17.484682           1.313793  2063.566416   \n",
      "min          1.000000          1.000000           0.000000    33.000000   \n",
      "25%          1.000000          1.000000           1.000000  9085.000000   \n",
      "50%          1.000000         17.000000           1.000000  9238.000000   \n",
      "75%          1.000000         39.000000           2.000000  9556.000000   \n",
      "max          6.000000         57.000000           9.000000  9991.000000   \n",
      "\n",
      "       Daytime/evening attendance  Previous qualification  \\\n",
      "count                 4424.000000             4424.000000   \n",
      "mean                     0.890823                4.577758   \n",
      "std                      0.311897               10.216592   \n",
      "min                      0.000000                1.000000   \n",
      "25%                      1.000000                1.000000   \n",
      "50%                      1.000000                1.000000   \n",
      "75%                      1.000000                1.000000   \n",
      "max                      1.000000               43.000000   \n",
      "\n",
      "       Previous qualification (grade)  Nacionality  Mother's qualification  \\\n",
      "count                     4424.000000  4424.000000             4424.000000   \n",
      "mean                       132.613314     1.873192               19.561935   \n",
      "std                         13.188332     6.914514               15.603186   \n",
      "min                         95.000000     1.000000                1.000000   \n",
      "25%                        125.000000     1.000000                2.000000   \n",
      "50%                        133.100000     1.000000               19.000000   \n",
      "75%                        140.000000     1.000000               37.000000   \n",
      "max                        190.000000   109.000000               44.000000   \n",
      "\n",
      "       Father's qualification  ...  \\\n",
      "count             4424.000000  ...   \n",
      "mean                22.275316  ...   \n",
      "std                 15.343108  ...   \n",
      "min                  1.000000  ...   \n",
      "25%                  3.000000  ...   \n",
      "50%                 19.000000  ...   \n",
      "75%                 37.000000  ...   \n",
      "max                 44.000000  ...   \n",
      "\n",
      "       Curricular units 1st sem (without evaluations)  \\\n",
      "count                                     4424.000000   \n",
      "mean                                         0.137658   \n",
      "std                                          0.690880   \n",
      "min                                          0.000000   \n",
      "25%                                          0.000000   \n",
      "50%                                          0.000000   \n",
      "75%                                          0.000000   \n",
      "max                                         12.000000   \n",
      "\n",
      "       Curricular units 2nd sem (credited)  \\\n",
      "count                          4424.000000   \n",
      "mean                              0.541817   \n",
      "std                               1.918546   \n",
      "min                               0.000000   \n",
      "25%                               0.000000   \n",
      "50%                               0.000000   \n",
      "75%                               0.000000   \n",
      "max                              19.000000   \n",
      "\n",
      "       Curricular units 2nd sem (enrolled)  \\\n",
      "count                          4424.000000   \n",
      "mean                              6.232143   \n",
      "std                               2.195951   \n",
      "min                               0.000000   \n",
      "25%                               5.000000   \n",
      "50%                               6.000000   \n",
      "75%                               7.000000   \n",
      "max                              23.000000   \n",
      "\n",
      "       Curricular units 2nd sem (evaluations)  \\\n",
      "count                             4424.000000   \n",
      "mean                                 8.063291   \n",
      "std                                  3.947951   \n",
      "min                                  0.000000   \n",
      "25%                                  6.000000   \n",
      "50%                                  8.000000   \n",
      "75%                                 10.000000   \n",
      "max                                 33.000000   \n",
      "\n",
      "       Curricular units 2nd sem (approved)  Curricular units 2nd sem (grade)  \\\n",
      "count                          4424.000000                       4424.000000   \n",
      "mean                              4.435805                         10.230206   \n",
      "std                               3.014764                          5.210808   \n",
      "min                               0.000000                          0.000000   \n",
      "25%                               2.000000                         10.750000   \n",
      "50%                               5.000000                         12.200000   \n",
      "75%                               6.000000                         13.333333   \n",
      "max                              20.000000                         18.571429   \n",
      "\n",
      "       Curricular units 2nd sem (without evaluations)  Unemployment rate  \\\n",
      "count                                     4424.000000        4424.000000   \n",
      "mean                                         0.150316          11.566139   \n",
      "std                                          0.753774           2.663850   \n",
      "min                                          0.000000           7.600000   \n",
      "25%                                          0.000000           9.400000   \n",
      "50%                                          0.000000          11.100000   \n",
      "75%                                          0.000000          13.900000   \n",
      "max                                         12.000000          16.200000   \n",
      "\n",
      "       Inflation rate          GDP  \n",
      "count     4424.000000  4424.000000  \n",
      "mean         1.228029     0.001969  \n",
      "std          1.382711     2.269935  \n",
      "min         -0.800000    -4.060000  \n",
      "25%          0.300000    -1.700000  \n",
      "50%          1.400000     0.320000  \n",
      "75%          2.600000     1.790000  \n",
      "max          3.700000     3.510000  \n",
      "\n",
      "[8 rows x 36 columns]\n",
      "\n",
      "   Marital status  Application mode  Application order  Course  \\\n",
      "0               1                17                  5     171   \n",
      "1               1                15                  1    9254   \n",
      "2               1                 1                  5    9070   \n",
      "3               1                17                  2    9773   \n",
      "4               2                39                  1    8014   \n",
      "\n",
      "   Daytime/evening attendance  Previous qualification  \\\n",
      "0                           1                       1   \n",
      "1                           1                       1   \n",
      "2                           1                       1   \n",
      "3                           1                       1   \n",
      "4                           0                       1   \n",
      "\n",
      "   Previous qualification (grade)  Nacionality  Mother's qualification  \\\n",
      "0                           122.0            1                      19   \n",
      "1                           160.0            1                       1   \n",
      "2                           122.0            1                      37   \n",
      "3                           122.0            1                      38   \n",
      "4                           100.0            1                      37   \n",
      "\n",
      "   Father's qualification  ...  Curricular units 2nd sem (credited)  \\\n",
      "0                      12  ...                                    0   \n",
      "1                       3  ...                                    0   \n",
      "2                      37  ...                                    0   \n",
      "3                      37  ...                                    0   \n",
      "4                      38  ...                                    0   \n",
      "\n",
      "   Curricular units 2nd sem (enrolled)  \\\n",
      "0                                    0   \n",
      "1                                    6   \n",
      "2                                    6   \n",
      "3                                    6   \n",
      "4                                    6   \n",
      "\n",
      "   Curricular units 2nd sem (evaluations)  \\\n",
      "0                                       0   \n",
      "1                                       6   \n",
      "2                                       0   \n",
      "3                                      10   \n",
      "4                                       6   \n",
      "\n",
      "   Curricular units 2nd sem (approved)  Curricular units 2nd sem (grade)  \\\n",
      "0                                    0                          0.000000   \n",
      "1                                    6                         13.666667   \n",
      "2                                    0                          0.000000   \n",
      "3                                    5                         12.400000   \n",
      "4                                    6                         13.000000   \n",
      "\n",
      "   Curricular units 2nd sem (without evaluations)  Unemployment rate  \\\n",
      "0                                               0               10.8   \n",
      "1                                               0               13.9   \n",
      "2                                               0               10.8   \n",
      "3                                               0                9.4   \n",
      "4                                               0               13.9   \n",
      "\n",
      "   Inflation rate   GDP     class  \n",
      "0             1.4  1.74   Dropout  \n",
      "1            -0.3  0.79  Graduate  \n",
      "2             1.4  1.74   Dropout  \n",
      "3            -0.8 -3.12  Graduate  \n",
      "4            -0.3  0.79  Graduate  \n",
      "\n",
      "[5 rows x 37 columns]\n",
      "\n"
     ]
    }
   ],
   "source": [
    "# Print head values and summary statistics\n",
    "print(data.describe())\n",
    "print()\n",
    "print(data.head())\n",
    "print()"
   ]
  },
  {
   "cell_type": "code",
   "execution_count": 63,
   "metadata": {},
   "outputs": [
    {
     "name": "stdout",
     "output_type": "stream",
     "text": [
      "Number of Features: 36\n",
      "Features: ['Marital status', 'Application mode', 'Application order', 'Course', 'Daytime/evening attendance', 'Previous qualification', 'Previous qualification (grade)', 'Nacionality', \"Mother's qualification\", \"Father's qualification\", \"Mother's occupation\", \"Father's occupation\", 'Admission grade', 'Displaced', 'Educational special needs', 'Debtor', 'Tuition fees up to date', 'Gender', 'Scholarship holder', 'Age at enrollment', 'International', 'Curricular units 1st sem (credited)', 'Curricular units 1st sem (enrolled)', 'Curricular units 1st sem (evaluations)', 'Curricular units 1st sem (approved)', 'Curricular units 1st sem (grade)', 'Curricular units 1st sem (without evaluations)', 'Curricular units 2nd sem (credited)', 'Curricular units 2nd sem (enrolled)', 'Curricular units 2nd sem (evaluations)', 'Curricular units 2nd sem (approved)', 'Curricular units 2nd sem (grade)', 'Curricular units 2nd sem (without evaluations)', 'Unemployment rate', 'Inflation rate', 'GDP']\n",
      "\n",
      "Number of Results: 3\n",
      "Result/Prediction: ['Dropout', 'Enrolled', 'Graduate']\n"
     ]
    }
   ],
   "source": [
    "# Get all 36 features used and 3 possible results\n",
    "features = list(data.columns)\n",
    "features.remove(\"class\")\n",
    "print(\"Number of Features: {}\".format(len(features)))\n",
    "print(\"Features: {}\".format(features))\n",
    "values = list(data[features].values)\n",
    "\n",
    "classes = list(data[\"class\"].unique())\n",
    "classes.sort()\n",
    "print(\"\\nNumber of Results: {}\".format(len(classes)))\n",
    "print(\"Result/Prediction: {}\".format(classes))\n",
    "targets = list(data[\"class\"].values)"
   ]
  },
  {
   "cell_type": "code",
   "execution_count": 64,
   "metadata": {
    "scrolled": true
   },
   "outputs": [
    {
     "name": "stdout",
     "output_type": "stream",
     "text": [
      "Marital status                                 | int64   | [1 , 6] \n",
      "Application mode                               | int64   | [1 , 57] \n",
      "Application order                              | int64   | [0 , 9] \n",
      "Course                                         | int64   | [33 , 9991] \n",
      "Daytime/evening attendance                     | int64   | [0 , 1] \n",
      "Previous qualification                         | int64   | [1 , 43] \n",
      "Previous qualification (grade)                 | float64 | [95.0 , 190.0] \n",
      "Nacionality                                    | int64   | [1 , 109] \n",
      "Mother's qualification                         | int64   | [1 , 44] \n",
      "Father's qualification                         | int64   | [1 , 44] \n",
      "Mother's occupation                            | int64   | [0 , 194] \n",
      "Father's occupation                            | int64   | [0 , 195] \n",
      "Admission grade                                | float64 | [95.0 , 190.0] \n",
      "Displaced                                      | int64   | [0 , 1] \n",
      "Educational special needs                      | int64   | [0 , 1] \n",
      "Debtor                                         | int64   | [0 , 1] \n",
      "Tuition fees up to date                        | int64   | [0 , 1] \n",
      "Gender                                         | int64   | [0 , 1] \n",
      "Scholarship holder                             | int64   | [0 , 1] \n",
      "Age at enrollment                              | int64   | [17 , 70] \n",
      "International                                  | int64   | [0 , 1] \n",
      "Curricular units 1st sem (credited)            | int64   | [0 , 20] \n",
      "Curricular units 1st sem (enrolled)            | int64   | [0 , 26] \n",
      "Curricular units 1st sem (evaluations)         | int64   | [0 , 45] \n",
      "Curricular units 1st sem (approved)            | int64   | [0 , 26] \n",
      "Curricular units 1st sem (grade)               | float64 | [0.0 , 18.875] \n",
      "Curricular units 1st sem (without evaluations) | int64   | [0 , 12] \n",
      "Curricular units 2nd sem (credited)            | int64   | [0 , 19] \n",
      "Curricular units 2nd sem (enrolled)            | int64   | [0 , 23] \n",
      "Curricular units 2nd sem (evaluations)         | int64   | [0 , 33] \n",
      "Curricular units 2nd sem (approved)            | int64   | [0 , 20] \n",
      "Curricular units 2nd sem (grade)               | float64 | [0.0 , 18.57142857] \n",
      "Curricular units 2nd sem (without evaluations) | int64   | [0 , 12] \n",
      "Unemployment rate                              | float64 | [7.6 , 16.2] \n",
      "Inflation rate                                 | float64 | [-0.8 , 3.7] \n",
      "GDP                                            | float64 | [-4.06 , 3.51] \n",
      "class                                          | object  | [Dropout , Graduate] \n"
     ]
    }
   ],
   "source": [
    "# Check atribute types and values interval\n",
    "for name, dtype in data.dtypes.iteritems():\n",
    "    print(\"{} | {} | [{} , {}] \".format(name.ljust(46), str(dtype).ljust(7), data[name].min(), data[name].max()))"
   ]
  },
  {
   "cell_type": "code",
   "execution_count": 65,
   "metadata": {},
   "outputs": [
    {
     "name": "stdout",
     "output_type": "stream",
     "text": [
      "Data Size: 4424\n"
     ]
    }
   ],
   "source": [
    "# Data size\n",
    "print(\"Data Size: {}\".format(len(data)))"
   ]
  },
  {
   "cell_type": "code",
   "execution_count": 66,
   "metadata": {},
   "outputs": [
    {
     "name": "stdout",
     "output_type": "stream",
     "text": [
      "N/A values found: False\n"
     ]
    }
   ],
   "source": [
    "# Check if there are columns with N/A values\n",
    "print(\"N/A values found: {}\".format(data.isnull().values.any()))"
   ]
  },
  {
   "cell_type": "code",
   "execution_count": 67,
   "metadata": {},
   "outputs": [
    {
     "name": "stdout",
     "output_type": "stream",
     "text": [
      "0       False\n",
      "1       False\n",
      "2       False\n",
      "3       False\n",
      "4       False\n",
      "        ...  \n",
      "4419    False\n",
      "4420    False\n",
      "4421    False\n",
      "4422    False\n",
      "4423    False\n",
      "Length: 4424, dtype: bool\n",
      "\n",
      "No data was removed: there were no duplicated data\n"
     ]
    }
   ],
   "source": [
    "# Check if there are duplicated Data\n",
    "bool_series = data.duplicated()\n",
    "print(bool_series)\n",
    "\n",
    "old_size = len(data)\n",
    "\n",
    "# Removing all duplicated data if exists\n",
    "data = data[~bool_series] \n",
    "\n",
    "new_size = len(data)\n",
    "\n",
    "# check if there were actualy duplicated data\n",
    "print()\n",
    "if (new_size == old_size):\n",
    "    print(\"No data was removed: there were no duplicated data\")\n",
    "else:\n",
    "    print(\"Was found and removed {} duplicated data\".format(old_size-new_size))"
   ]
  },
  {
   "cell_type": "code",
   "execution_count": null,
   "metadata": {
    "scrolled": true
   },
   "outputs": [],
   "source": [
    "# Resultant data without duplicated entries\n",
    "data"
   ]
  },
  {
   "cell_type": "code",
   "execution_count": 68,
   "metadata": {},
   "outputs": [
    {
     "data": {
      "image/png": "[encoded data removed]",
      "text/plain": [
       "<Figure size 432x288 with 1 Axes>"
      ]
     },
     "metadata": {
      "needs_background": "light"
     },
     "output_type": "display_data"
    },
    {
     "name": "stdout",
     "output_type": "stream",
     "text": [
      "             1    2  3   4   5  6\n",
      "Dropout   1184  179  1  42  11  4\n",
      "Enrolled   720   52  2  16   3  1\n",
      "Graduate  2015  148  1  33  11  1\n"
     ]
    },
    {
     "data": {
      "image/png": "[encoded data removed]",
      "text/plain": [
       "<Figure size 432x288 with 1 Axes>"
      ]
     },
     "metadata": {
      "needs_background": "light"
     },
     "output_type": "display_data"
    },
    {
     "name": "stdout",
     "output_type": "stream",
     "text": [
      "            1   2   5   7   10  15  16   17  18  26  27   39  42   43  44  51  \\\n",
      "Dropout    345   2   2  85   3   5   5  256  45   1   1  435  34  115  63  20   \n",
      "Enrolled   300   0   8   7   0  10   8  159  16   0   0  121  11   75  56  13   \n",
      "Graduate  1063   1   6  47   7  15  25  457  63   0   0  229  32  122  94  26   \n",
      "\n",
      "          53  57  \n",
      "Dropout    4   0  \n",
      "Enrolled  10   0  \n",
      "Graduate  21   1  \n"
     ]
    },
    {
     "data": {
      "image/png": "[encoded data removed]",
      "text/plain": [
       "<Figure size 432x288 with 1 Axes>"
      ]
     },
     "metadata": {
      "needs_background": "light"
     },
     "output_type": "display_data"
    },
    {
     "name": "stdout",
     "output_type": "stream",
     "text": [
      "          0     1    2    3    4   5   6  9\n",
      "Dropout   0  1053  150   76   58  53  31  0\n",
      "Enrolled  0   565   96   60   31  25  16  1\n",
      "Graduate  1  1408  301  173  160  76  90  0\n"
     ]
    },
    {
     "data": {
      "image/png": "[encoded data removed]",
      "text/plain": [
       "<Figure size 432x288 with 1 Axes>"
      ]
     },
     "metadata": {
      "needs_background": "light"
     },
     "output_type": "display_data"
    },
    {
     "name": "stdout",
     "output_type": "stream",
     "text": [
      "          33    171   8014  9003  9070  9085  9119  9130  9147  9238  9254  \\\n",
      "Dropout      8    82    71    86    51    90    92    78   134    65    96   \n",
      "Enrolled     3    37    21    37    42    75    64    21   108    42    41   \n",
      "Graduate     1    96   123    87   133   172    14    42   138   248   115   \n",
      "\n",
      "          9500  9556  9670  9773  9853  9991  \n",
      "Dropout    118    33    95   101    85   136  \n",
      "Enrolled   100    17    48    34    50    54  \n",
      "Graduate   548    36   125   196    57    78  \n"
     ]
    },
    {
     "data": {
      "image/png": "[encoded data removed]",
      "text/plain": [
       "<Figure size 432x288 with 1 Axes>"
      ]
     },
     "metadata": {
      "needs_background": "light"
     },
     "output_type": "display_data"
    },
    {
     "name": "stdout",
     "output_type": "stream",
     "text": [
      "            0     1\n",
      "Dropout   207  1214\n",
      "Enrolled   75   719\n",
      "Graduate  201  2008\n"
     ]
    },
    {
     "data": {
      "image/png": "[encoded data removed]",
      "text/plain": [
       "<Figure size 432x288 with 1 Axes>"
      ]
     },
     "metadata": {
      "needs_background": "light"
     },
     "output_type": "display_data"
    },
    {
     "name": "stdout",
     "output_type": "stream",
     "text": [
      "            1   2   3   4   5   6   9   10  12  14  15   19  38  39  40  42  \\\n",
      "Dropout   1078  16  75   4   1   7  11   3  26   1   1  104   3  69  14   6   \n",
      "Enrolled   698   1   4   1   0   1   0   0   6   0   0   13   1  55   6   8   \n",
      "Graduate  1941   6  47   3   0   8   0   1  13   0   1   45   3  95  20  22   \n",
      "\n",
      "          43  \n",
      "Dropout    2  \n",
      "Enrolled   0  \n",
      "Graduate   4  \n"
     ]
    },
    {
     "data": {
      "image/png": "[encoded data removed]",
      "text/plain": [
       "<Figure size 432x288 with 1 Axes>"
      ]
     },
     "metadata": {
      "needs_background": "light"
     },
     "output_type": "display_data"
    },
    {
     "name": "stdout",
     "output_type": "stream",
     "text": [
      "          95.0   96.0   97.0   99.0   100.0  101.0  102.0  103.0  105.0  \\\n",
      "Dropout       1      1      0      0     29      0      0      1      0   \n",
      "Enrolled      0      1      0      1     14      3      0      1      1   \n",
      "Graduate      0      0      1      1     33      3      5      1      3   \n",
      "\n",
      "          106.0  ...  174.0  175.0  176.0  177.0  178.0  180.0  182.0  184.4  \\\n",
      "Dropout       2  ...      0      1      0      0      1      4      0      0   \n",
      "Enrolled      4  ...      0      0      0      0      0      2      0      0   \n",
      "Graduate      4  ...      1      0      1      2      1      3      1      1   \n",
      "\n",
      "          188.0  190.0  \n",
      "Dropout       1      1  \n",
      "Enrolled      0      1  \n",
      "Graduate      0      0  \n",
      "\n",
      "[3 rows x 101 columns]\n"
     ]
    },
    {
     "data": {
      "image/png": "[encoded data removed]",
      "text/plain": [
       "<Figure size 432x288 with 1 Axes>"
      ]
     },
     "metadata": {
      "needs_background": "light"
     },
     "output_type": "display_data"
    },
    {
     "name": "stdout",
     "output_type": "stream",
     "text": [
      "           1    2    6    11   13   14   17   21   22   24   ...  26   32   \\\n",
      "Dropout   1389    0    4    0    0    0    1    1    4    1  ...    1    0   \n",
      "Enrolled   770    0    5    0    0    0    0    1    1    0  ...    5    1   \n",
      "Graduate  2155    2    4    3    1    1    0    0    8    4  ...    8    0   \n",
      "\n",
      "          41   62   100  101  103  105  108  109  \n",
      "Dropout    14    0    2    1    1    1    0    1  \n",
      "Enrolled    6    1    1    0    0    1    1    0  \n",
      "Graduate   18    1    0    1    2    0    0    0  \n",
      "\n",
      "[3 rows x 21 columns]\n"
     ]
    },
    {
     "data": {
      "image/png": "[encoded data removed]",
      "text/plain": [
       "<Figure size 432x288 with 1 Axes>"
      ]
     },
     "metadata": {
      "needs_background": "light"
     },
     "output_type": "display_data"
    },
    {
     "name": "stdout",
     "output_type": "stream",
     "text": [
      "           1   2    3   4   5   6   9   10  11  12  ...  35  36   37   38  39  \\\n",
      "Dropout   300  20  139   8   8   3   5   2   2  22  ...   2   2  383  140   4   \n",
      "Enrolled  204  23  101  15   5   0   0   0   0   3  ...   0   0  169   91   2   \n",
      "Graduate  565  40  198  26   8   1   3   1   1  17  ...   1   1  457  331   2   \n",
      "\n",
      "          40  41  42  43  44  \n",
      "Dropout    3   2   2   1   1  \n",
      "Enrolled   1   0   0   1   0  \n",
      "Graduate   5   4   2   2   0  \n",
      "\n",
      "[3 rows x 29 columns]\n"
     ]
    },
    {
     "data": {
      "image/png": "[encoded data removed]",
      "text/plain": [
       "<Figure size 432x288 with 1 Axes>"
      ]
     },
     "metadata": {
      "needs_background": "light"
     },
     "output_type": "display_data"
    },
    {
     "name": "stdout",
     "output_type": "stream",
     "text": [
      "           1   2    3   4   5   6   9   10  11  12  ...  35  36   37   38  39  \\\n",
      "Dropout   281  22   90  14  10   2   1   2   4  14  ...   2   5  432  167   8   \n",
      "Enrolled  172  25   62   7   3   0   0   0   0   4  ...   0   0  199  127   7   \n",
      "Graduate  451  21  130  18   5   0   4   0   6  20  ...   0   3  578  408   5   \n",
      "\n",
      "          40  41  42  43  44  \n",
      "Dropout    3   1   0   0   1  \n",
      "Enrolled   0   1   0   0   0  \n",
      "Graduate   2   0   1   2   0  \n",
      "\n",
      "[3 rows x 34 columns]\n"
     ]
    },
    {
     "data": {
      "image/png": "[encoded data removed]",
      "text/plain": [
       "<Figure size 432x288 with 1 Axes>"
      ]
     },
     "metadata": {
      "needs_background": "light"
     },
     "output_type": "display_data"
    },
    {
     "name": "stdout",
     "output_type": "stream",
     "text": [
      "          0    1    2    3    4    5    6    7    8    9    ...  151  152  \\\n",
      "Dropout    99   39  102   95  248  156   26   80   15  490  ...    0    0   \n",
      "Enrolled    1   15   78   79  147   94   14   48    7  264  ...    1    1   \n",
      "Graduate   44   48  138  177  422  280   51  144   14  823  ...    2    1   \n",
      "\n",
      "          153  171  173  175  191  192  193  194  \n",
      "Dropout     0    0    0    1    0    0    1    1  \n",
      "Enrolled    0    0    1    2   11    3    0    7  \n",
      "Graduate    2    1    0    2   15    2    3    3  \n",
      "\n",
      "[3 rows x 32 columns]\n"
     ]
    },
    {
     "data": {
      "image/png": "[encoded data removed]",
      "text/plain": [
       "<Figure size 432x288 with 1 Axes>"
      ]
     },
     "metadata": {
      "needs_background": "light"
     },
     "output_type": "display_data"
    },
    {
     "name": "stdout",
     "output_type": "stream",
     "text": [
      "          0    1    2    3    4    5    6    7    8    9    ...  172  174  \\\n",
      "Dropout    82   48   70  114  139  148   69  184   94  323  ...    0    0   \n",
      "Enrolled    3   23   50   63   74  107   48  111   55  163  ...    1    0   \n",
      "Graduate   43   63   77  207  173  261  125  371  169  524  ...    1    1   \n",
      "\n",
      "          175  181  182  183  192  193  194  195  \n",
      "Dropout     0    0    0    0    0    2    1    0  \n",
      "Enrolled    2    1    1    2    2    8    0    0  \n",
      "Graduate    2    2    1    1    4    5    1    1  \n",
      "\n",
      "[3 rows x 46 columns]\n"
     ]
    },
    {
     "data": {
      "image/png": "[encoded data removed]",
      "text/plain": [
       "<Figure size 432x288 with 1 Axes>"
      ]
     },
     "metadata": {
      "needs_background": "light"
     },
     "output_type": "display_data"
    },
    {
     "name": "stdout",
     "output_type": "stream",
     "text": [
      "          95.0   95.1   95.5   95.8   96.0   96.1   96.7   97.0   97.2   \\\n",
      "Dropout       7      1      1      1      5      1      1      3      0   \n",
      "Enrolled      1      0      0      0      2      0      0      1      0   \n",
      "Graduate      3      0      1      0      0      0      0      2      1   \n",
      "\n",
      "          97.4   ...  176.7  178.0  178.3  179.6  180.0  180.4  183.5  184.0  \\\n",
      "Dropout       1  ...      1      0      1      1      0      1      1      0   \n",
      "Enrolled      0  ...      0      0      0      0      2      0      0      0   \n",
      "Graduate      0  ...      0      1      0      0      2      0      0      1   \n",
      "\n",
      "          184.4  190.0  \n",
      "Dropout       0      1  \n",
      "Enrolled      0      1  \n",
      "Graduate      1      1  \n",
      "\n",
      "[3 rows x 620 columns]\n"
     ]
    },
    {
     "data": {
      "image/png": "[encoded data removed]",
      "text/plain": [
       "<Figure size 432x288 with 1 Axes>"
      ]
     },
     "metadata": {
      "needs_background": "light"
     },
     "output_type": "display_data"
    },
    {
     "name": "stdout",
     "output_type": "stream",
     "text": [
      "            0     1\n",
      "Dropout   752   669\n",
      "Enrolled  361   433\n",
      "Graduate  885  1324\n"
     ]
    },
    {
     "data": {
      "image/png": "[encoded data removed]",
      "text/plain": [
       "<Figure size 432x288 with 1 Axes>"
      ]
     },
     "metadata": {
      "needs_background": "light"
     },
     "output_type": "display_data"
    },
    {
     "name": "stdout",
     "output_type": "stream",
     "text": [
      "             0   1\n",
      "Dropout   1404  17\n",
      "Enrolled   783  11\n",
      "Graduate  2186  23\n"
     ]
    },
    {
     "data": {
      "image/png": "[encoded data removed]",
      "text/plain": [
       "<Figure size 432x288 with 1 Axes>"
      ]
     },
     "metadata": {
      "needs_background": "light"
     },
     "output_type": "display_data"
    },
    {
     "name": "stdout",
     "output_type": "stream",
     "text": [
      "             0    1\n",
      "Dropout   1109  312\n",
      "Enrolled   704   90\n",
      "Graduate  2108  101\n"
     ]
    },
    {
     "data": {
      "image/png": "[encoded data removed]",
      "text/plain": [
       "<Figure size 432x288 with 1 Axes>"
      ]
     },
     "metadata": {
      "needs_background": "light"
     },
     "output_type": "display_data"
    },
    {
     "name": "stdout",
     "output_type": "stream",
     "text": [
      "            0     1\n",
      "Dropout   457   964\n",
      "Enrolled   42   752\n",
      "Graduate   29  2180\n"
     ]
    },
    {
     "data": {
      "image/png": "[encoded data removed]",
      "text/plain": [
       "<Figure size 432x288 with 1 Axes>"
      ]
     },
     "metadata": {
      "needs_background": "light"
     },
     "output_type": "display_data"
    },
    {
     "name": "stdout",
     "output_type": "stream",
     "text": [
      "             0    1\n",
      "Dropout    720  701\n",
      "Enrolled   487  307\n",
      "Graduate  1661  548\n"
     ]
    },
    {
     "data": {
      "image/png": "[encoded data removed]",
      "text/plain": [
       "<Figure size 432x288 with 1 Axes>"
      ]
     },
     "metadata": {
      "needs_background": "light"
     },
     "output_type": "display_data"
    },
    {
     "name": "stdout",
     "output_type": "stream",
     "text": [
      "             0    1\n",
      "Dropout   1287  134\n",
      "Enrolled   664  130\n",
      "Graduate  1374  835\n"
     ]
    },
    {
     "data": {
      "image/png": "[encoded data removed]",
      "text/plain": [
       "<Figure size 432x288 with 1 Axes>"
      ]
     },
     "metadata": {
      "needs_background": "light"
     },
     "output_type": "display_data"
    },
    {
     "name": "stdout",
     "output_type": "stream",
     "text": [
      "          17   18   19   20   21  22  23  24  25  26  ...  53  54  55  57  58  \\\n",
      "Dropout    0  202  207  133   93  58  41  56  47  52  ...   3   4   3   1   2   \n",
      "Enrolled   2  172  157  140   70  37  24  30  21  19  ...   1   1   0   0   0   \n",
      "Graduate   3  662  547  326  159  79  43  45  25  23  ...   3   2   2   1   1   \n",
      "\n",
      "          59  60  61  62  70  \n",
      "Dropout    2   0   1   0   1  \n",
      "Enrolled   0   0   0   0   0  \n",
      "Graduate   1   2   0   1   0  \n",
      "\n",
      "[3 rows x 46 columns]\n"
     ]
    },
    {
     "data": {
      "image/png": "[encoded data removed]",
      "text/plain": [
       "<Figure size 432x288 with 1 Axes>"
      ]
     },
     "metadata": {
      "needs_background": "light"
     },
     "output_type": "display_data"
    },
    {
     "name": "stdout",
     "output_type": "stream",
     "text": [
      "             0   1\n",
      "Dropout   1389  32\n",
      "Enrolled   770  24\n",
      "Graduate  2155  54\n"
     ]
    },
    {
     "data": {
      "image/png": "[encoded data removed]",
      "text/plain": [
       "<Figure size 432x288 with 1 Axes>"
      ]
     },
     "metadata": {
      "needs_background": "light"
     },
     "output_type": "display_data"
    },
    {
     "name": "stdout",
     "output_type": "stream",
     "text": [
      "            0   1   2   3   4   5   6   7   8   9   ...  11  12  13  14  15  \\\n",
      "Dropout   1242  29  38  21  24   6  14   9   5   6  ...   5   2   5   6   1   \n",
      "Enrolled   697  18  23  12   4  10   8  10   4   3  ...   1   1   1   1   0   \n",
      "Graduate  1908  38  33  36  19  25  29  22  22  18  ...  11   9   7   8   4   \n",
      "\n",
      "          16  17  18  19  20  \n",
      "Dropout    0   0   1   0   0  \n",
      "Enrolled   0   0   0   0   0  \n",
      "Graduate   3   3   3   2   2  \n",
      "\n",
      "[3 rows x 21 columns]\n"
     ]
    },
    {
     "data": {
      "image/png": "[encoded data removed]",
      "text/plain": [
       "<Figure size 432x288 with 1 Axes>"
      ]
     },
     "metadata": {
      "needs_background": "light"
     },
     "output_type": "display_data"
    },
    {
     "name": "stdout",
     "output_type": "stream",
     "text": [
      "          0   1   2   3   4    5    6    7    8   9   ...  13  14  15  16  17  \\\n",
      "Dropout   77   6   5   9  21  421  605  164   26  12  ...   6   3  14   1   4   \n",
      "Enrolled  28   1   2   1   0  261  316  110   32   5  ...   4   0   1   1   3   \n",
      "Graduate  75   0   2   0   0  328  989  382  238  19  ...  10  19  10  11   9   \n",
      "\n",
      "          18  19  21  23  26  \n",
      "Dropout    2   0   1   0   0  \n",
      "Enrolled   0   0   0   0   0  \n",
      "Graduate  17   2   5   2   1  \n",
      "\n",
      "[3 rows x 23 columns]\n"
     ]
    },
    {
     "data": {
      "image/png": "[encoded data removed]",
      "text/plain": [
       "<Figure size 432x288 with 1 Axes>"
      ]
     },
     "metadata": {
      "needs_background": "light"
     },
     "output_type": "display_data"
    },
    {
     "name": "stdout",
     "output_type": "stream",
     "text": [
      "           0   1   2   3   4    5    6    7    8    9   ...  25  26  27  28  \\\n",
      "Dropout   246   5   5   6  17  110  137  135  150  119  ...   2   1   0   0   \n",
      "Enrolled   28   1   2   0   1   27   68   82  117  106  ...   0   0   0   0   \n",
      "Graduate   75   0   1   0   1   83  393  486  524  177  ...   1   3   2   1   \n",
      "\n",
      "          29  31  32  33  36  45  \n",
      "Dropout    0   1   0   0   0   0  \n",
      "Enrolled   0   0   0   0   0   0  \n",
      "Graduate   2   0   1   1   1   2  \n",
      "\n",
      "[3 rows x 35 columns]\n"
     ]
    },
    {
     "data": {
      "image/png": "[encoded data removed]",
      "text/plain": [
       "<Figure size 432x288 with 1 Axes>"
      ]
     },
     "metadata": {
      "needs_background": "light"
     },
     "output_type": "display_data"
    },
    {
     "name": "stdout",
     "output_type": "stream",
     "text": [
      "           0   1    2    3    4    5    6    7   8   9   ...  13  14  15  16  \\\n",
      "Dropout   570  93  112  139  158  145  117   33  10   8  ...   8   7   0   0   \n",
      "Enrolled   71  33   42   93  145  193  138   42  14   5  ...   3   0   1   0   \n",
      "Graduate   77   1    6   37  130  385  916  396  84  27  ...  15   7   6   5   \n",
      "\n",
      "          17  18  19  20  21  26  \n",
      "Dropout    1   0   0   0   1   0  \n",
      "Enrolled   0   0   0   0   0   0  \n",
      "Graduate   9  15   2   3   3   1  \n",
      "\n",
      "[3 rows x 23 columns]\n"
     ]
    },
    {
     "data": {
      "image/png": "[encoded data removed]",
      "text/plain": [
       "<Figure size 432x288 with 1 Axes>"
      ]
     },
     "metadata": {
      "needs_background": "light"
     },
     "output_type": "display_data"
    },
    {
     "name": "stdout",
     "output_type": "stream",
     "text": [
      "          0.000000   9.800000   10.000000  10.166667  10.200000  10.214286  \\\n",
      "Dropout         570          1         59          0          0          0   \n",
      "Enrolled         71          0         22          0          5          0   \n",
      "Graduate         77          0          1          1          3          1   \n",
      "\n",
      "          10.250000  10.285714  10.333333  10.368421  ...  16.857143  \\\n",
      "Dropout           6          1          5          0  ...          0   \n",
      "Enrolled          0          0          9          0  ...          0   \n",
      "Graduate          1          0          2          1  ...          1   \n",
      "\n",
      "          16.885714  16.900000  17.000000  17.005556  17.111111  17.125000  \\\n",
      "Dropout           0          0          0          0          0          0   \n",
      "Enrolled          0          0          2          0          0          0   \n",
      "Graduate          1          1          3          1          1          1   \n",
      "\n",
      "          17.333333  18.000000  18.875000  \n",
      "Dropout           1          2          0  \n",
      "Enrolled          0          0          0  \n",
      "Graduate          1          0          1  \n",
      "\n",
      "[3 rows x 797 columns]\n"
     ]
    },
    {
     "data": {
      "image/png": "[encoded data removed]",
      "text/plain": [
       "<Figure size 432x288 with 1 Axes>"
      ]
     },
     "metadata": {
      "needs_background": "light"
     },
     "output_type": "display_data"
    },
    {
     "name": "stdout",
     "output_type": "stream",
     "text": [
      "            0   1   2   3   4   5   6   7   8   10  12\n",
      "Dropout   1297  60  29  12  13   1   3   4   2   0   0\n",
      "Enrolled   724  35  21   7   1   2   1   1   2   0   0\n",
      "Graduate  2109  58  29   4   1   2   2   1   0   1   2\n"
     ]
    },
    {
     "data": {
      "image/png": "[encoded data removed]",
      "text/plain": [
       "<Figure size 432x288 with 1 Axes>"
      ]
     },
     "metadata": {
      "needs_background": "light"
     },
     "output_type": "display_data"
    },
    {
     "name": "stdout",
     "output_type": "stream",
     "text": [
      "            0   1   2   3   4   5   6   7   8   9   10  11  12  13  14  15  \\\n",
      "Dropout   1264  37  30  17  19  24   3   3   4   4   4   2   7   2   0   0   \n",
      "Enrolled   711  25  12   9  17   7   2   4   2   2   2   0   1   0   0   0   \n",
      "Graduate  1919  45  50  23  42  37  21   9   6   9   7  18   6   7   4   2   \n",
      "\n",
      "          16  18  19  \n",
      "Dropout    1   0   0  \n",
      "Enrolled   0   0   0  \n",
      "Graduate   1   2   1  \n"
     ]
    },
    {
     "data": {
      "image/png": "[encoded data removed]",
      "text/plain": [
       "<Figure size 432x288 with 1 Axes>"
      ]
     },
     "metadata": {
      "needs_background": "light"
     },
     "output_type": "display_data"
    },
    {
     "name": "stdout",
     "output_type": "stream",
     "text": [
      "          0   1   2   3   4    5    6    7    8   9   ...  12  13  14  15  16  \\\n",
      "Dropout   77   3   5   2  14  454  602   99   95  16  ...   9   7   9   1   1   \n",
      "Enrolled  28   0   0   1   2  265  317   80   65   6  ...   5   3   0   0   0   \n",
      "Graduate  75   0   0   0   1  335  994  125  501  28  ...  30  27  13   1   0   \n",
      "\n",
      "          17  18  19  21  23  \n",
      "Dropout    2   1   0   0   0  \n",
      "Enrolled   2   0   0   0   0  \n",
      "Graduate   8   1   3   1   2  \n",
      "\n",
      "[3 rows x 22 columns]\n"
     ]
    },
    {
     "data": {
      "image/png": "[encoded data removed]",
      "text/plain": [
       "<Figure size 432x288 with 1 Axes>"
      ]
     },
     "metadata": {
      "needs_background": "light"
     },
     "output_type": "display_data"
    },
    {
     "name": "stdout",
     "output_type": "stream",
     "text": [
      "           0   1   2   3   4    5    6    7    8    9   ...  20  21  22  23  \\\n",
      "Dropout   297   3   4   1   8  161  135  115  127  110  ...   2   4   2   2   \n",
      "Enrolled   29   0   0   1   2   20   58   85  138  103  ...   0   2   2   0   \n",
      "Graduate   75   0   0   0   0  107  421  363  527  243  ...   6   4   6   2   \n",
      "\n",
      "          24  25  26  27  28  33  \n",
      "Dropout    2   1   0   0   0   0  \n",
      "Enrolled   0   0   0   1   1   0  \n",
      "Graduate   1   0   3   1   0   1  \n",
      "\n",
      "[3 rows x 30 columns]\n"
     ]
    },
    {
     "data": {
      "image/png": "[encoded data removed]",
      "text/plain": [
       "<Figure size 432x288 with 1 Axes>"
      ]
     },
     "metadata": {
      "needs_background": "light"
     },
     "output_type": "display_data"
    },
    {
     "name": "stdout",
     "output_type": "stream",
     "text": [
      "           0   1    2    3    4    5    6    7    8   9   10  11  12  13  14  \\\n",
      "Dropout   727  86  116  127  112  119   64   19   20   6  10   5   7   1   0   \n",
      "Enrolled   68  28   77  124  160  157   98   44   15  11   6   4   2   0   0   \n",
      "Graduate   75   0    5   34  142  450  803  268  286  19  22  39  25  20   6   \n",
      "\n",
      "          16  17  18  19  20  \n",
      "Dropout    2   0   0   0   0  \n",
      "Enrolled   0   0   0   0   0  \n",
      "Graduate   0   8   2   3   2  \n"
     ]
    },
    {
     "data": {
      "image/png": "[encoded data removed]",
      "text/plain": [
       "<Figure size 432x288 with 1 Axes>"
      ]
     },
     "metadata": {
      "needs_background": "light"
     },
     "output_type": "display_data"
    },
    {
     "name": "stdout",
     "output_type": "stream",
     "text": [
      "          0.000000   10.000000  10.166667  10.200000  10.250000  10.333333  \\\n",
      "Dropout         727         48          2          1          4          9   \n",
      "Enrolled         68         26          1          2          5          9   \n",
      "Graduate         75          3          1          1          1          1   \n",
      "\n",
      "          10.375000  10.400000  10.428571  10.444444  ...  16.800000  \\\n",
      "Dropout           0          1          1          1  ...          0   \n",
      "Enrolled          1          4          1          1  ...          0   \n",
      "Graduate          0          3          0          0  ...          2   \n",
      "\n",
      "          16.909091  17.000000  17.166667  17.428571  17.587500  17.600000  \\\n",
      "Dropout           0          1          0          1          0          0   \n",
      "Enrolled          0          1          0          0          0          1   \n",
      "Graduate          1          0          1          0          1          1   \n",
      "\n",
      "          17.692308  17.714286  18.571429  \n",
      "Dropout           0          1          0  \n",
      "Enrolled          0          0          0  \n",
      "Graduate          1          0          1  \n",
      "\n",
      "[3 rows x 782 columns]\n"
     ]
    },
    {
     "data": {
      "image/png": "[encoded data removed]",
      "text/plain": [
       "<Figure size 432x288 with 1 Axes>"
      ]
     },
     "metadata": {
      "needs_background": "light"
     },
     "output_type": "display_data"
    },
    {
     "name": "stdout",
     "output_type": "stream",
     "text": [
      "            0   1   2   3   4   5   6   7   8   12\n",
      "Dropout   1298  51  20  16  13   9   5   4   4   1\n",
      "Enrolled   726  33  13  12   5   1   1   1   2   0\n",
      "Graduate  2118  56  15   7   3   7   2   0   0   1\n"
     ]
    },
    {
     "data": {
      "image/png": "[encoded data removed]",
      "text/plain": [
       "<Figure size 432x288 with 1 Axes>"
      ]
     },
     "metadata": {
      "needs_background": "light"
     },
     "output_type": "display_data"
    },
    {
     "name": "stdout",
     "output_type": "stream",
     "text": [
      "          7.6   8.9   9.4   10.8  11.1  12.4  12.7  13.9  15.5  16.2\n",
      "Dropout    202   102   174   182   117   107   141   118   139   139\n",
      "Enrolled   119    77   109    90    67    90    63    64    69    46\n",
      "Graduate   250   189   250   253   230   248   215   208   189   177\n"
     ]
    },
    {
     "data": {
      "image/png": "[encoded data removed]",
      "text/plain": [
       "<Figure size 432x288 with 1 Axes>"
      ]
     },
     "metadata": {
      "needs_background": "light"
     },
     "output_type": "display_data"
    },
    {
     "name": "stdout",
     "output_type": "stream",
     "text": [
      "          -0.8  -0.3   0.3   0.5   0.6   1.4   2.6   2.8   3.7\n",
      "Dropout    174   118   139   107   117   284   202   139   141\n",
      "Enrolled   109    64    46    90    67   167   119    69    63\n",
      "Graduate   250   208   177   248   230   442   250   189   215\n"
     ]
    },
    {
     "data": {
      "image/png": "[encoded data removed]",
      "text/plain": [
       "<Figure size 432x288 with 1 Axes>"
      ]
     },
     "metadata": {
      "needs_background": "light"
     },
     "output_type": "display_data"
    },
    {
     "name": "stdout",
     "output_type": "stream",
     "text": [
      "          -4.06  -3.12  -1.70  -0.92   0.32   0.79   1.74   1.79   2.02   3.51\n",
      "Dropout     139    174    141    139    202    118    182    107    117    102\n",
      "Enrolled     69    109     63     46    119     64     90     90     67     77\n",
      "Graduate    189    250    215    177    250    208    253    248    230    189\n"
     ]
    }
   ],
   "source": [
    "# Histogram for each feture values and respective count of classses\n",
    "\n",
    "def count_targets_for_each_value(data, feat):\n",
    "    data_aux = data[[feat, \"class\"]]\n",
    "    d = {}\n",
    "    for line in data_aux.values:\n",
    "        if not line[0] in d:\n",
    "            d[line[0]] = {classes[0]: 0, classes[1]: 0, classes[2]: 0}\n",
    "        d[line[0]][line[1]] += 1\n",
    "\n",
    "    for entry in d.keys():\n",
    "        d[entry] = [d[entry][c] for c in classes]\n",
    "    aux = pd.DataFrame(d, index=classes)\n",
    "    return aux.reindex(sorted(aux.columns), axis=1)\n",
    "\n",
    "\n",
    "for i in range(36):\n",
    "    plt.title(features[i])\n",
    "    plt.hist(data[features[i]].values)\n",
    "    plt.show()\n",
    "    print(count_targets_for_each_value(data, features[i]))"
   ]
  },
  {
   "cell_type": "code",
   "execution_count": 69,
   "metadata": {},
   "outputs": [
    {
     "name": "stdout",
     "output_type": "stream",
     "text": [
      "Number of 'Graduate' occurences: 2209\n",
      "Number of 'Dropout' occurences: 1421\n",
      "Number of 'Enrolled' occurences: 794\n",
      "\n",
      "      class  count\n",
      "0  Graduate   2209\n",
      "1   Dropout   1421\n",
      "2  Enrolled    794\n"
     ]
    },
    {
     "data": {
      "image/png": "[encoded data removed]",
      "text/plain": [
       "<Figure size 432x288 with 1 Axes>"
      ]
     },
     "metadata": {
      "needs_background": "light"
     },
     "output_type": "display_data"
    },
    {
     "data": {
      "image/png": "[encoded data removed]",
      "text/plain": [
       "<Figure size 432x288 with 1 Axes>"
      ]
     },
     "metadata": {},
     "output_type": "display_data"
    }
   ],
   "source": [
    "# Class Distribution\n",
    "# Check data balance\n",
    "n_graduate = data['class'].value_counts().Graduate\n",
    "n_dropouts = data['class'].value_counts().Dropout\n",
    "n_enrroled = data['class'].value_counts().Enrolled\n",
    "print(\"Number of 'Graduate' occurences: {}\".format(n_graduate))\n",
    "print(\"Number of 'Dropout' occurences: {}\".format(n_dropouts))\n",
    "print(\"Number of 'Enrolled' occurences: {}\".format(n_enrroled))\n",
    "print()\n",
    "\n",
    "# Corresponding plot \n",
    "count_result = pd.DataFrame(data[\"class\"]).value_counts().rename_axis(\"class\").reset_index(name=\"count\")\n",
    "print(count_result)\n",
    "\n",
    "# Bar plot\n",
    "plot_count_res = sb.barplot(data=count_result, x=\"count\", y=\"class\")\n",
    "plt.show()\n",
    "\n",
    "# Pie plot with percentages\n",
    "plt.pie([n_graduate, n_dropouts, n_enrroled], autopct = '%0.00f%%')\n",
    "plt.show()"
   ]
  },
  {
   "cell_type": "markdown",
   "metadata": {},
   "source": [
    "Analisando a distribuição de cada atributo pelas classes possíveis, podemos concluir que existem alguns atributos irrelevantes, na medida que não se distingue à priori nem se obtem qualquer informação sobre qual a classe mais provável para uma nova amostra com base no valor desse atributo, como conseguimos identifificar no caso do atributo 'Curricular units 2nd sem (credited)'"
   ]
  },
  {
   "cell_type": "code",
   "execution_count": null,
   "metadata": {},
   "outputs": [],
   "source": [
    "# Distribution of each attribute \n",
    "def densityPlot(x, hue, fill):\n",
    "    sb.displot(data, x=x, hue=hue, kind=\"kde\", fill=fill)\n",
    "    \n",
    "# all 36 distinct attributes\n",
    "attributes = list(data.columns)\n",
    "attributes.remove(\"class\")\n",
    "    \n",
    "for attribute in attributes:\n",
    "    densityPlot(attribute, 'class', True)"
   ]
  },
  {
   "cell_type": "markdown",
   "metadata": {},
   "source": [
    "**Propriedades do Problema:** (a partir da análise dos dados de entrada)\n",
    "\n",
    "- Nominal and Discrete attributes (including some binary ones)\n",
    "- Dimensionality = 37 attibutos\n",
    "- Size = 4424\n",
    "- Type = Data Matrix\n",
    "- No missing or duplicate Data\n",
    "- No meaningful outliers\n",
    "- Imbalance data"
   ]
  },
  {
   "cell_type": "markdown",
   "metadata": {},
   "source": [
    "## Pré-processamento dos dados\n",
    "\n",
    "Tendo em conta as conclusões obtidas pela a análise dos dados originais mostrada anteriormente, podemos apercebermo-nos que é necessário realizar um pré-processamento dos dados, com o objetivo de resolver o maior problema adjacente a estes: a falta de balanceamento entre as diferentes classes de alvo. \n",
    "\n",
    "Para tal podemos usar entre outras estratégias uma das seguintes:\n",
    "- **oversampling** : «Aumentar o número de amostras/entradas da menor classe até coincidir com o tamanho da maior classe»\n",
    "- **undersampling** : «Diminuir o número de amostras/entradas da maior classe até coincidir com o tamanho da menor classe»\n",
    "\n",
    "Em qualquer uma das abordagens acima, a escolha das amostras escolhidas para serem retidas ou replicadas com pequenas modificações é aleatória."
   ]
  },
  {
   "cell_type": "code",
   "execution_count": 85,
   "metadata": {
    "scrolled": true
   },
   "outputs": [],
   "source": [
    "from sklearn.preprocessing import StandardScaler\n",
    "\n",
    "data_standard = data.copy()\n",
    "\n",
    "non_binary_features = [feature for feature in features if len(data[feature].unique()) != 2]\n",
    "data_no_binary_features = data_standard[non_binary_features]\n",
    "\n",
    "scaler = StandardScaler()\n",
    "stand_values = scaler.fit_transform(data_no_binary_features.values)\n",
    "\n",
    "stand_values_df = pd.DataFrame(\n",
    "    stand_values, \n",
    "    index=data_no_binary_features.index, \n",
    "    columns=non_binary_features)\n",
    "data_standard[non_binary_features] = stand_values_df[non_binary_features]"
   ]
  },
  {
   "cell_type": "markdown",
   "metadata": {},
   "source": [
    "### Undersampling\n",
    "\n",
    "Uma das técnicas para lidar com o desbalanceamento de classes em machine lerning é chamado de *undersampling*. Esta técnica de balanceamento consiste em remover algumas observações das classes majoritárias, até que as classes majoritárias e minoritárias sejam equilibradas. A técnica *undersampling* pode ser uma boa escolha quando temos dados desequilibrados, mas uma desvantagem é que removemos informações que podem ser valiosas.\n",
    "\n",
    "Para remover as observações das classes majoritárias, usamos a função `sample(sequence, k)`, uma função do módulo `Random` de Python, que retorna uma lista de comprimento `k` de itens escolhidos aleatoriamente de `sequence`."
   ]
  },
  {
   "cell_type": "code",
   "execution_count": null,
   "metadata": {},
   "outputs": [],
   "source": [
    "# Imbalance Original Data\n",
    "print(\"Classes count:\")\n",
    "print(data['class'].value_counts())\n",
    "\n",
    "data['class'].value_counts().plot(kind='bar', title='count (target)')"
   ]
  },
  {
   "cell_type": "code",
   "execution_count": null,
   "metadata": {},
   "outputs": [],
   "source": [
    "class_graduate = data[data['class'] == \"Graduate\"]\n",
    "class_dropout = data[data['class'] == \"Dropout\"]\n",
    "class_enrolled = data[data['class'] == \"Enrolled\"]\n",
    "\n",
    "class_dropout_under = class_dropout.sample(n_enrroled, replace=True)\n",
    "class_graduate_under = class_graduate.sample(n_enrroled, replace=True)"
   ]
  },
  {
   "cell_type": "markdown",
   "metadata": {},
   "source": [
    "Agora temos os nossos dados balanceados, como é possível observer no gráfico criado pelo código abaixo."
   ]
  },
  {
   "cell_type": "code",
   "execution_count": null,
   "metadata": {
    "scrolled": true
   },
   "outputs": [],
   "source": [
    "data_under = pd.concat([class_dropout_under, class_graduate_under, class_enrolled], axis=0)\n",
    "\n",
    "# plot the count after under-sampeling\n",
    "print(\"Classes count after under-sampling:\")\n",
    "print(data_under['class'].value_counts())\n",
    "\n",
    "data_under['class'].value_counts().plot(kind='bar', title='count (target)')"
   ]
  },
  {
   "cell_type": "code",
   "execution_count": null,
   "metadata": {},
   "outputs": [],
   "source": [
    "# Save to file\n",
    "if SAVE_FILE: data_under.to_csv(\"data/data_under.csv\", index=False)"
   ]
  },
  {
   "cell_type": "markdown",
   "metadata": {},
   "source": [
    "### Oversampling\n",
    "\n",
    "// TODO AQUI -> improve description\n",
    "Segue o seguinte esquema: [incluir imagem significativa]\n",
    "\n",
    "As entradas da classe menor sáo replicadas até totalizarem o número de amostras da classe maior."
   ]
  },
  {
   "cell_type": "code",
   "execution_count": null,
   "metadata": {},
   "outputs": [],
   "source": [
    "# Imbalance Original Data\n",
    "unbalanced_count = data['class'].value_counts()\n",
    "unbalanced_count.plot.bar()\n",
    "plt.show()"
   ]
  },
  {
   "cell_type": "code",
   "execution_count": null,
   "metadata": {},
   "outputs": [],
   "source": [
    "# Separate count and samples by the diferent classes\n",
    "graduate_count, dropout_count, enrolled_count = data['class'].value_counts()\n",
    "\n",
    "print(\"GRADUATE: {} | DROPOUT: {} | ENROLLED: {}\".format(graduate_count, dropout_count, enrolled_count))\n",
    "\n",
    "graduate_samples = data[data['class'] == \"Graduate\"]\n",
    "dropout_samples = data[data['class'] == \"Dropout\"]\n",
    "enrolled_samples = data[data['class'] == \"Enrolled\"]"
   ]
  },
  {
   "cell_type": "markdown",
   "metadata": {},
   "source": [
    "#### Random Over-Sampling\n",
    "\n",
    "«Oversampling can be defined as adding more copies to the minority class.»\n",
    "\n",
    "**Disvantagens:** pode causar *overfitting* e pobre generalização do conjunto de dados para teste."
   ]
  },
  {
   "cell_type": "code",
   "execution_count": null,
   "metadata": {
    "scrolled": true
   },
   "outputs": [],
   "source": [
    "# number of the smallest to the larger ones\n",
    "dropout_samples_over = dropout_samples.sample(graduate_count, replace=True)\n",
    "enrolled_samples_over = enrolled_samples.sample(graduate_count, replace=True)\n",
    "\n",
    "data_over = pd.concat([graduate_samples, dropout_samples_over, enrolled_samples_over], axis=0)\n",
    "\n",
    "print(\"Total dintinct classes: \\n{}\".format(data_over['class'].value_counts()))\n",
    "\n",
    "rnd_oversampling_count = data_over['class'].value_counts()\n",
    "rnd_oversampling_count.plot.bar()\n",
    "plt.show()"
   ]
  },
  {
   "cell_type": "code",
   "execution_count": null,
   "metadata": {},
   "outputs": [],
   "source": [
    "# Save to file\n",
    "if SAVE_FILE: data_over.to_csv(\"data/data_over.csv\", index=False)"
   ]
  },
  {
   "cell_type": "markdown",
   "metadata": {},
   "source": [
    "#### Synthetic Minority Oversampling Technique (SMOTE)\n",
    "\n",
    "// TODO AQUI - NOT WORKING"
   ]
  },
  {
   "cell_type": "code",
   "execution_count": null,
   "metadata": {},
   "outputs": [],
   "source": [
    "import imblearn\n",
    "\n",
    "from imblearn.over_sampling import RandomOverSampler\n",
    "\n",
    "ros = RandomOverSampler(random_state=42)\n",
    "# TODO find want is supposted to be x and y \n",
    "x_ros, y_ros = ros.fit_resample(x, y)\n",
    "\n",
    "print('Original dataset shape', Counter(y))\n",
    "print('Resample dataset shape', Counter(y_ros))\n",
    "\n",
    "\n",
    "from imblearn.over_sampling import SMOTE\n",
    "\n",
    "smote = SMOTE()\n",
    "# fit predictor and target variable\n",
    "x_smote, y_smote = smote.fit_resample(x, y)\n",
    "\n",
    "print('Original dataset shape', Counter(y))\n",
    "print('Resample dataset shape', Counter(y_ros))"
   ]
  },
  {
   "cell_type": "markdown",
   "metadata": {},
   "source": [
    "É importante referir que nenhuma das soluções acima é uma solução perfeita, pois a aplicação de undersampling pode inplicar a perda de infromação, da mesma forma que a aplicação de oversampling (sem qualquer modificação das amostras escolhidas aleatóriamente para serem replicadas) pode levar a um posterior overfitting dos modelos gerados a estes novos dados.\n",
    "\n",
    "\n",
    "#### Combine under and over sampling\n",
    "\n",
    "Tendo isto em conta a seguinte tentativa tenta encontrar um meio termos entre as soluções anteriores, fazendo as classes em questão convergir para um valor mediano e não para um máximo nem minímo, tentando combater as consequencias sentidas nos dados ao aplicar isoladamente cada uma das estratégias, obtando por alcaçar um meio termo."
   ]
  },
  {
   "cell_type": "code",
   "execution_count": null,
   "metadata": {},
   "outputs": [],
   "source": [
    "# make the counts meet at the middle point\n",
    "# in this case the middle point is consider to be the dropout class\n",
    "graduate_samples_middle = graduate_samples.sample(droupout_count, replace=True)\n",
    "enrolled_samples_middle = enrolled_samples.sample(droupout_count, replace=True)\n",
    "\n",
    "data_under_over = pd.concat([graduate_samples_middle, droupout_samples, enrolled_samples_middle], axis=0)\n",
    "\n",
    "print(\"Total dintinct classes: \\n{}\".format(data_under_over['class'].value_counts()))\n",
    "\n",
    "under_over_count = data_under_over['class'].value_counts()\n",
    "under_over_count.plot.bar()\n",
    "plt.show()"
   ]
  },
  {
   "cell_type": "code",
   "execution_count": null,
   "metadata": {},
   "outputs": [],
   "source": [
    "# Save to file\n",
    "if SAVE_FILE: data_under.to_csv(\"data/data_under_over.csv\", i)"
   ]
  },
  {
   "cell_type": "markdown",
   "metadata": {},
   "source": [
    "## Learning Algorithms\n",
    "\n",
    "### Identification of the Target Concept\n",
    "\n",
    "// TODO AQUI"
   ]
  },
  {
   "cell_type": "code",
   "execution_count": 87,
   "metadata": {},
   "outputs": [],
   "source": [
    "#data = pd.read_csv('data/data_over.csv')\n",
    "data = data_standard\n",
    "values = list(data[list(data.columns[:-1])].values)\n",
    "targets = list(data['class'].values)"
   ]
  },
  {
   "cell_type": "markdown",
   "metadata": {},
   "source": [
    "### Validation"
   ]
  },
  {
   "cell_type": "markdown",
   "metadata": {},
   "source": [
    "#### Train test split"
   ]
  },
  {
   "cell_type": "code",
   "execution_count": 88,
   "metadata": {},
   "outputs": [],
   "source": [
    "from sklearn.model_selection import train_test_split\n",
    "def split_data(data, classes, test_size):\n",
    "  feat_train, feat_test, target_train, target_test = train_test_split(data, classes, test_size=test_size, shuffle=True)\n",
    "  return feat_train, feat_test, target_train, target_test"
   ]
  },
  {
   "cell_type": "markdown",
   "metadata": {},
   "source": [
    "#### Cross validation"
   ]
  },
  {
   "cell_type": "code",
   "execution_count": 89,
   "metadata": {},
   "outputs": [],
   "source": [
    "from sklearn.model_selection import cross_val_score\n",
    "def cross_validation(model, features, targets, cv):\n",
    "    scores = cross_val_score(model, features, targets, cv=cv)\n",
    "    return scores"
   ]
  },
  {
   "cell_type": "markdown",
   "metadata": {},
   "source": [
    "#### Confusion Matrix"
   ]
  },
  {
   "cell_type": "code",
   "execution_count": 90,
   "metadata": {},
   "outputs": [],
   "source": [
    "from sklearn.metrics import confusion_matrix, ConfusionMatrixDisplay\n",
    "def confusion_matrix(target_test, target_predictions):    \n",
    "    return metrics.confusion_matrix(target_test, target_predictions)\n",
    "\n",
    "def display_confusion_matrix(cm):\n",
    "    metrics.ConfusionMatrixDisplay(cm, display_labels=classes).plot()"
   ]
  },
  {
   "cell_type": "markdown",
   "metadata": {},
   "source": [
    "#### Validate model"
   ]
  },
  {
   "cell_type": "code",
   "execution_count": 91,
   "metadata": {},
   "outputs": [],
   "source": [
    "from sklearn import metrics\n",
    "\n",
    "def precision(cm, i):\n",
    "    return cm[i][i]/sum(cm[i])\n",
    "\n",
    "def recall(cm, i):\n",
    "    cmt = np.copy(cm).transpose()\n",
    "    return cmt[i][i]/sum(cmt[i])\n",
    "\n",
    "def validate(model, features, targets):\n",
    "    test_size = 0.2\n",
    "    cross_validation_split = 5\n",
    "    feat_train, feat_test, target_train, target_test = split_data(features, targets, test_size)\n",
    "    \n",
    "    model.fit(feat_train, target_train)\n",
    "    predictions = model.predict(feat_test)\n",
    "    \n",
    "    acc = metrics.accuracy_score(target_test, predictions)\n",
    "    print(\"Accuracy: {:.2f}\\n\".format(acc*100))\n",
    "    \n",
    "    cm = confusion_matrix(target_test, predictions)\n",
    "    print(\"Precision:\")\n",
    "    for i in range(3): print(\"\\t{:.2f}% - {}\".format(precision(cm, i)*100, classes[i]))\n",
    "    print(\"Recall:\")\n",
    "    for i in range(3): print(\"\\t{:.2f}% - {}\".format(recall(cm, i)*100, classes[i]))\n",
    "    \n",
    "    display_confusion_matrix(cm)\n",
    "    \n",
    "    scores = cross_validation(model, features, targets, cross_validation_split)\n",
    "    print(\"Cross validation {}-fold: {}\".format(cross_validation_split, [round(x, 3) for x in scores]))\n",
    "    print(\"\\t{:.2f} accuracy with a standard deviation of {:.2f}\".format(scores.mean(), scores.std()))"
   ]
  },
  {
   "cell_type": "markdown",
   "metadata": {},
   "source": [
    "#### Selection and Parameterization of the learning algorithms to employ\n",
    "\n",
    ":: At least 3 supervised learning (classification) algorithms should be employed (Decision Trees, Neural Networks, KNN, SVM, …) "
   ]
  },
  {
   "cell_type": "markdown",
   "metadata": {},
   "source": [
    "### Algorithms"
   ]
  },
  {
   "cell_type": "markdown",
   "metadata": {},
   "source": [
    "#### Decision Tree Classifier"
   ]
  },
  {
   "cell_type": "code",
   "execution_count": 92,
   "metadata": {},
   "outputs": [
    {
     "name": "stdout",
     "output_type": "stream",
     "text": [
      "Accuracy: 74.80\n",
      "\n",
      "Precision:\n",
      "\t70.69% - Dropout\n",
      "\t30.41% - Enrolled\n",
      "\t95.52% - Graduate\n",
      "Recall:\n",
      "\t85.42% - Dropout\n",
      "\t60.47% - Enrolled\n",
      "\t72.45% - Graduate\n",
      "Cross validation 5-fold: [0.74, 0.73, 0.739, 0.741, 0.721]\n",
      "\t0.73 accuracy with a standard deviation of 0.01\n"
     ]
    },
    {
     "data": {
      "image/png": "[encoded data removed]",
      "text/plain": [
       "<Figure size 432x288 with 2 Axes>"
      ]
     },
     "metadata": {
      "needs_background": "light"
     },
     "output_type": "display_data"
    }
   ],
   "source": [
    "from sklearn.tree import DecisionTreeClassifier\n",
    "\n",
    "# Create the classifier\n",
    "dtc = DecisionTreeClassifier(\n",
    "  criterion=\"gini\", # criterion{“gini”, “entropy”, “log_loss”}, default=”gini”\n",
    "  splitter=\"best\", # splitter{“best”, “random”}, default=”best”\n",
    "  max_depth=5, \n",
    "  max_features=20, # max_featuresint, float or {“auto”, “sqrt”, “log2”}, default=None\n",
    "  max_leaf_nodes=None) # max_leaf_nodes: int, default=None\n",
    "validate(dtc, values, targets)"
   ]
  },
  {
   "cell_type": "code",
   "execution_count": null,
   "metadata": {},
   "outputs": [],
   "source": [
    "# Plot tree\n",
    "from sklearn.tree import plot_tree\n",
    "plot_tree(dtc)"
   ]
  },
  {
   "cell_type": "code",
   "execution_count": null,
   "metadata": {},
   "outputs": [],
   "source": [
    "# Create PDF with the tree\n",
    "import graphviz\n",
    "from sklearn.tree import export_graphviz\n",
    "\n",
    "dot_data = export_graphviz(dtc, out_file=None, feature_names=labels, class_names=targets ) \n",
    "graph = graphviz.Source(dot_data) \n",
    "graph.render(\"decision_tree\") "
   ]
  },
  {
   "cell_type": "markdown",
   "metadata": {},
   "source": [
    "#### K-nearest Neighbour"
   ]
  },
  {
   "cell_type": "code",
   "execution_count": null,
   "metadata": {},
   "outputs": [],
   "source": [
    "from sklearn.neighbors import KNeighborsClassifier\n",
    "\n",
    "n_neighbors = 1\n",
    "\n",
    "knc = KNeighborsClassifier(n_neighbors,weights=\"uniform\")\n",
    "validate(knc, values, targets)"
   ]
  },
  {
   "cell_type": "code",
   "execution_count": null,
   "metadata": {},
   "outputs": [],
   "source": [
    "from matplotlib.colors import ListedColormap\n",
    "from sklearn import neighbors, datasets\n",
    "from sklearn.inspection import DecisionBoundaryDisplay\n",
    "'''\n",
    "_, ax = plt.subplots()\n",
    "DecisionBoundaryDisplay.from_estimator(\n",
    "    clf,\n",
    "    X=np.array([line[:2] for line in data_train]),\n",
    "    ax=ax,\n",
    "    response_method=\"predict\",\n",
    "    plot_method=\"pcolormesh\",\n",
    "    shading=\"auto\",\n",
    ")\n",
    "\n",
    "sns.scatterplot(\n",
    "        x=data[labels[0]],\n",
    "        y=data[labels[1]],\n",
    "        alpha=1.0,\n",
    "        edgecolor=\"black\",\n",
    "    )\n",
    "plt.show()\n",
    "'''"
   ]
  },
  {
   "cell_type": "markdown",
   "metadata": {},
   "source": [
    "#### Neural Network"
   ]
  },
  {
   "cell_type": "code",
   "execution_count": 93,
   "metadata": {},
   "outputs": [
    {
     "name": "stdout",
     "output_type": "stream",
     "text": [
      "Accuracy: 77.18\n",
      "\n",
      "Precision:\n",
      "\t74.29% - Dropout\n",
      "\t30.50% - Enrolled\n",
      "\t93.10% - Graduate\n",
      "Recall:\n",
      "\t84.55% - Dropout\n",
      "\t42.16% - Enrolled\n",
      "\t80.45% - Graduate\n",
      "Cross validation 5-fold: [0.749, 0.764, 0.765, 0.759, 0.743]\n",
      "\t0.76 accuracy with a standard deviation of 0.01\n"
     ]
    },
    {
     "data": {
      "image/png": "[encoded data removed]",
      "text/plain": [
       "<Figure size 432x288 with 2 Axes>"
      ]
     },
     "metadata": {
      "needs_background": "light"
     },
     "output_type": "display_data"
    }
   ],
   "source": [
    "from sklearn.neural_network import MLPClassifier\n",
    "\n",
    "nnc = MLPClassifier(\n",
    "    solver='lbfgs', \n",
    "    alpha=1e-5,\n",
    "    hidden_layer_sizes=(5, 2),\n",
    "    max_iter=5000,\n",
    "    random_state=1)\n",
    "\n",
    "validate(nnc, values, targets)"
   ]
  },
  {
   "cell_type": "markdown",
   "metadata": {},
   "source": [
    "#### Evaluation of the learning process\n",
    "\n",
    ":: compared using appropriate evaluation\n",
    "metrics (performance during learning, confusion matrix, precision, recall, accuracy, F1 measure) and the time\n",
    "spent to train/test the models.\n",
    "(in particular on the test set)\n",
    "\n",
    ":: compared using the Scikit-Learn Python library and considering\n",
    "the characteristics of the dataset."
   ]
  },
  {
   "cell_type": "markdown",
   "metadata": {},
   "source": [
    "#### Results Comparision\n",
    "\n",
    ":: Results should be compared using tables or plots (e.g., using Seaborn or\n",
    "Matplotlib libraries)."
   ]
  }
 ],
 "metadata": {
  "interpreter": {
   "hash": "b4dbf65eb2934af93dfe8402dc5043295a9b874b2f4a935919e1627f38520e4d"
  },
  "kernelspec": {
   "display_name": "Python 3",
   "language": "python",
   "name": "python3"
  },
  "language_info": {
   "codemirror_mode": {
    "name": "ipython",
    "version": 3
   },
   "file_extension": ".py",
   "mimetype": "text/x-python",
   "name": "python",
   "nbconvert_exporter": "python",
   "pygments_lexer": "ipython3",
   "version": "3.8.5"
  }
 },
 "nbformat": 4,
 "nbformat_minor": 5
}
