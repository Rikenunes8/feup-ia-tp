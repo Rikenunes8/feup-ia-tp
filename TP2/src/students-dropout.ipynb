{
 "cells": [
  {
   "cell_type": "markdown",
   "metadata": {},
   "source": [
    "# Supervised Learning - Classification Problem\n",
    "\n",
    "## Students' dropout and academic success\n",
    "\n",
    "### (Droupout, Enrolled, Graduate)\n",
    "\n",
    "Faculdade: FEUP - Faculdade de Engenharia da Universidade do Porto\n",
    "\n",
    "Curso: L.EIC - Licenciatura em Engenharia Informática e Computação \n",
    "\n",
    "Unidade Curricular: Inteligência Artificial\n",
    "\n",
    "Ano Curricular: 2021/22\n",
    "\n",
    "Grupo: 21_1D\n",
    "\n",
    "Elementos:\n",
    "- Henrique Ribeiro Nunes, up201906852@up.pt\n",
    "- Margarida Assis Ferreira, up201905046@up.pt\n",
    "- Patrícia do Carmo Nunes Oliveira, up201905427@up.pt"
   ]
  },
  {
   "cell_type": "markdown",
   "metadata": {},
   "source": [
    "### Especificação\n",
    "\n",
    "O foco principal deste problema é analisar a informação conhecida sobre a matrícula do aluno (percurso acadêmico, demografia e fatores socioeconómicos) e o desempenho académico dos alunos no final do primeiro e segundo semestres. Com o objetivo de usar estes dados para construir modelos de classificação para **prever a desistência e o sucesso académico dos alunos**.\n",
    "\n",
    "Este problema é um ***single label multiclass classification problem*** com 37 atributos:\n",
    "- 36 métricas distintas para descrever as informações do aluno.\n",
    "- 1 objetivo com 3 resultados possíveis (*Droupout*, *Enrolled*, *Graduate*).\n",
    "\n",
    "Existe um **forte desbalanceamento** em relação a um dos resultados possíveis.\n",
    "\n",
    "\n",
    "### Tools & Resources\n",
    "\n",
    "// TODO AQUI "
   ]
  },
  {
   "cell_type": "markdown",
   "metadata": {},
   "source": [
    "## Data Analysis\n",
    "\n",
    "A análise dos dados é um passo importante nos problemas de classificação. \n",
    "\n",
    "Nesta secção são analisados os atributos que classificam os dados e o tipo e intervalo de valores de cada um dos atributos, bem como o tamanho do conjunto de dados, a presença de valores nulos ou amostras duplicadas. Igualmente é explorado a distribuição das classes e de valores por atributos."
   ]
  },
  {
   "cell_type": "code",
   "execution_count": 2,
   "metadata": {},
   "outputs": [],
   "source": [
    "import pandas as pd\n",
    "import numpy as np\n",
    "import matplotlib.pyplot as plt\n",
    "import seaborn as sb"
   ]
  },
  {
   "cell_type": "code",
   "execution_count": 3,
   "metadata": {},
   "outputs": [],
   "source": [
    "SAVE_FILE = False"
   ]
  },
  {
   "cell_type": "code",
   "execution_count": 4,
   "metadata": {},
   "outputs": [],
   "source": [
    "# Load data\n",
    "data = pd.read_csv(\"data/data.csv\")"
   ]
  },
  {
   "cell_type": "code",
   "execution_count": 5,
   "metadata": {
    "scrolled": true
   },
   "outputs": [
    {
     "name": "stdout",
     "output_type": "stream",
     "text": [
      "       Marital status  Application mode  Application order       Course  \\\n",
      "count     4424.000000       4424.000000        4424.000000  4424.000000   \n",
      "mean         1.178571         18.669078           1.727848  8856.642631   \n",
      "std          0.605747         17.484682           1.313793  2063.566416   \n",
      "min          1.000000          1.000000           0.000000    33.000000   \n",
      "25%          1.000000          1.000000           1.000000  9085.000000   \n",
      "50%          1.000000         17.000000           1.000000  9238.000000   \n",
      "75%          1.000000         39.000000           2.000000  9556.000000   \n",
      "max          6.000000         57.000000           9.000000  9991.000000   \n",
      "\n",
      "       Daytime/evening attendance  Previous qualification  \\\n",
      "count                 4424.000000             4424.000000   \n",
      "mean                     0.890823                4.577758   \n",
      "std                      0.311897               10.216592   \n",
      "min                      0.000000                1.000000   \n",
      "25%                      1.000000                1.000000   \n",
      "50%                      1.000000                1.000000   \n",
      "75%                      1.000000                1.000000   \n",
      "max                      1.000000               43.000000   \n",
      "\n",
      "       Previous qualification (grade)  Nacionality  Mother's qualification  \\\n",
      "count                     4424.000000  4424.000000             4424.000000   \n",
      "mean                       132.613314     1.873192               19.561935   \n",
      "std                         13.188332     6.914514               15.603186   \n",
      "min                         95.000000     1.000000                1.000000   \n",
      "25%                        125.000000     1.000000                2.000000   \n",
      "50%                        133.100000     1.000000               19.000000   \n",
      "75%                        140.000000     1.000000               37.000000   \n",
      "max                        190.000000   109.000000               44.000000   \n",
      "\n",
      "       Father's qualification  ...  \\\n",
      "count             4424.000000  ...   \n",
      "mean                22.275316  ...   \n",
      "std                 15.343108  ...   \n",
      "min                  1.000000  ...   \n",
      "25%                  3.000000  ...   \n",
      "50%                 19.000000  ...   \n",
      "75%                 37.000000  ...   \n",
      "max                 44.000000  ...   \n",
      "\n",
      "       Curricular units 1st sem (without evaluations)  \\\n",
      "count                                     4424.000000   \n",
      "mean                                         0.137658   \n",
      "std                                          0.690880   \n",
      "min                                          0.000000   \n",
      "25%                                          0.000000   \n",
      "50%                                          0.000000   \n",
      "75%                                          0.000000   \n",
      "max                                         12.000000   \n",
      "\n",
      "       Curricular units 2nd sem (credited)  \\\n",
      "count                          4424.000000   \n",
      "mean                              0.541817   \n",
      "std                               1.918546   \n",
      "min                               0.000000   \n",
      "25%                               0.000000   \n",
      "50%                               0.000000   \n",
      "75%                               0.000000   \n",
      "max                              19.000000   \n",
      "\n",
      "       Curricular units 2nd sem (enrolled)  \\\n",
      "count                          4424.000000   \n",
      "mean                              6.232143   \n",
      "std                               2.195951   \n",
      "min                               0.000000   \n",
      "25%                               5.000000   \n",
      "50%                               6.000000   \n",
      "75%                               7.000000   \n",
      "max                              23.000000   \n",
      "\n",
      "       Curricular units 2nd sem (evaluations)  \\\n",
      "count                             4424.000000   \n",
      "mean                                 8.063291   \n",
      "std                                  3.947951   \n",
      "min                                  0.000000   \n",
      "25%                                  6.000000   \n",
      "50%                                  8.000000   \n",
      "75%                                 10.000000   \n",
      "max                                 33.000000   \n",
      "\n",
      "       Curricular units 2nd sem (approved)  Curricular units 2nd sem (grade)  \\\n",
      "count                          4424.000000                       4424.000000   \n",
      "mean                              4.435805                         10.230206   \n",
      "std                               3.014764                          5.210808   \n",
      "min                               0.000000                          0.000000   \n",
      "25%                               2.000000                         10.750000   \n",
      "50%                               5.000000                         12.200000   \n",
      "75%                               6.000000                         13.333333   \n",
      "max                              20.000000                         18.571429   \n",
      "\n",
      "       Curricular units 2nd sem (without evaluations)  Unemployment rate  \\\n",
      "count                                     4424.000000        4424.000000   \n",
      "mean                                         0.150316          11.566139   \n",
      "std                                          0.753774           2.663850   \n",
      "min                                          0.000000           7.600000   \n",
      "25%                                          0.000000           9.400000   \n",
      "50%                                          0.000000          11.100000   \n",
      "75%                                          0.000000          13.900000   \n",
      "max                                         12.000000          16.200000   \n",
      "\n",
      "       Inflation rate          GDP  \n",
      "count     4424.000000  4424.000000  \n",
      "mean         1.228029     0.001969  \n",
      "std          1.382711     2.269935  \n",
      "min         -0.800000    -4.060000  \n",
      "25%          0.300000    -1.700000  \n",
      "50%          1.400000     0.320000  \n",
      "75%          2.600000     1.790000  \n",
      "max          3.700000     3.510000  \n",
      "\n",
      "[8 rows x 36 columns]\n",
      "\n",
      "   Marital status  Application mode  Application order  Course  \\\n",
      "0               1                17                  5     171   \n",
      "1               1                15                  1    9254   \n",
      "2               1                 1                  5    9070   \n",
      "3               1                17                  2    9773   \n",
      "4               2                39                  1    8014   \n",
      "\n",
      "   Daytime/evening attendance  Previous qualification  \\\n",
      "0                           1                       1   \n",
      "1                           1                       1   \n",
      "2                           1                       1   \n",
      "3                           1                       1   \n",
      "4                           0                       1   \n",
      "\n",
      "   Previous qualification (grade)  Nacionality  Mother's qualification  \\\n",
      "0                           122.0            1                      19   \n",
      "1                           160.0            1                       1   \n",
      "2                           122.0            1                      37   \n",
      "3                           122.0            1                      38   \n",
      "4                           100.0            1                      37   \n",
      "\n",
      "   Father's qualification  ...  Curricular units 2nd sem (credited)  \\\n",
      "0                      12  ...                                    0   \n",
      "1                       3  ...                                    0   \n",
      "2                      37  ...                                    0   \n",
      "3                      37  ...                                    0   \n",
      "4                      38  ...                                    0   \n",
      "\n",
      "   Curricular units 2nd sem (enrolled)  \\\n",
      "0                                    0   \n",
      "1                                    6   \n",
      "2                                    6   \n",
      "3                                    6   \n",
      "4                                    6   \n",
      "\n",
      "   Curricular units 2nd sem (evaluations)  \\\n",
      "0                                       0   \n",
      "1                                       6   \n",
      "2                                       0   \n",
      "3                                      10   \n",
      "4                                       6   \n",
      "\n",
      "   Curricular units 2nd sem (approved)  Curricular units 2nd sem (grade)  \\\n",
      "0                                    0                          0.000000   \n",
      "1                                    6                         13.666667   \n",
      "2                                    0                          0.000000   \n",
      "3                                    5                         12.400000   \n",
      "4                                    6                         13.000000   \n",
      "\n",
      "   Curricular units 2nd sem (without evaluations)  Unemployment rate  \\\n",
      "0                                               0               10.8   \n",
      "1                                               0               13.9   \n",
      "2                                               0               10.8   \n",
      "3                                               0                9.4   \n",
      "4                                               0               13.9   \n",
      "\n",
      "   Inflation rate   GDP     class  \n",
      "0             1.4  1.74   Dropout  \n",
      "1            -0.3  0.79  Graduate  \n",
      "2             1.4  1.74   Dropout  \n",
      "3            -0.8 -3.12  Graduate  \n",
      "4            -0.3  0.79  Graduate  \n",
      "\n",
      "[5 rows x 37 columns]\n",
      "\n"
     ]
    }
   ],
   "source": [
    "# Print head values and summary statistics\n",
    "print(data.describe())\n",
    "print()\n",
    "print(data.head())\n",
    "print()"
   ]
  },
  {
   "cell_type": "code",
   "execution_count": 25,
   "metadata": {},
   "outputs": [
    {
     "name": "stdout",
     "output_type": "stream",
     "text": [
      "Number of Metrics: 36\n",
      "Metrics: ['Marital status', 'Application mode', 'Application order', 'Course', 'Daytime/evening attendance', 'Previous qualification', 'Previous qualification (grade)', 'Nacionality', \"Mother's qualification\", \"Father's qualification\", \"Mother's occupation\", \"Father's occupation\", 'Admission grade', 'Displaced', 'Educational special needs', 'Debtor', 'Tuition fees up to date', 'Gender', 'Scholarship holder', 'Age at enrollment', 'International', 'Curricular units 1st sem (credited)', 'Curricular units 1st sem (enrolled)', 'Curricular units 1st sem (evaluations)', 'Curricular units 1st sem (approved)', 'Curricular units 1st sem (grade)', 'Curricular units 1st sem (without evaluations)', 'Curricular units 2nd sem (credited)', 'Curricular units 2nd sem (enrolled)', 'Curricular units 2nd sem (evaluations)', 'Curricular units 2nd sem (approved)', 'Curricular units 2nd sem (grade)', 'Curricular units 2nd sem (without evaluations)', 'Unemployment rate', 'Inflation rate', 'GDP']\n",
      "\n",
      "Number of Results: 3\n",
      "Result/Prediction: ['Dropout', 'Enrolled', 'Graduate']\n"
     ]
    }
   ],
   "source": [
    "# Get all 36 metrics used and 3 possible results\n",
    "metrics = list(data.columns)\n",
    "metrics.remove(\"class\")\n",
    "print(\"Number of Metrics: {}\".format(len(metrics)))\n",
    "print(\"Metrics: {}\".format(metrics))\n",
    "values = list(data[metrics].values)\n",
    "\n",
    "classes = list(data[\"class\"].unique())\n",
    "classes.sort()\n",
    "print(\"\\nNumber of Results: {}\".format(len(classes)))\n",
    "print(\"Result/Prediction: {}\".format(classes))\n",
    "targets = list(data[\"class\"].values)"
   ]
  },
  {
   "cell_type": "code",
   "execution_count": 7,
   "metadata": {
    "scrolled": true
   },
   "outputs": [
    {
     "name": "stdout",
     "output_type": "stream",
     "text": [
      "Marital status                                 | int64   | [1 , 6] \n",
      "Application mode                               | int64   | [1 , 57] \n",
      "Application order                              | int64   | [0 , 9] \n",
      "Course                                         | int64   | [33 , 9991] \n",
      "Daytime/evening attendance                     | int64   | [0 , 1] \n",
      "Previous qualification                         | int64   | [1 , 43] \n",
      "Previous qualification (grade)                 | float64 | [95.0 , 190.0] \n",
      "Nacionality                                    | int64   | [1 , 109] \n",
      "Mother's qualification                         | int64   | [1 , 44] \n",
      "Father's qualification                         | int64   | [1 , 44] \n",
      "Mother's occupation                            | int64   | [0 , 194] \n",
      "Father's occupation                            | int64   | [0 , 195] \n",
      "Admission grade                                | float64 | [95.0 , 190.0] \n",
      "Displaced                                      | int64   | [0 , 1] \n",
      "Educational special needs                      | int64   | [0 , 1] \n",
      "Debtor                                         | int64   | [0 , 1] \n",
      "Tuition fees up to date                        | int64   | [0 , 1] \n",
      "Gender                                         | int64   | [0 , 1] \n",
      "Scholarship holder                             | int64   | [0 , 1] \n",
      "Age at enrollment                              | int64   | [17 , 70] \n",
      "International                                  | int64   | [0 , 1] \n",
      "Curricular units 1st sem (credited)            | int64   | [0 , 20] \n",
      "Curricular units 1st sem (enrolled)            | int64   | [0 , 26] \n",
      "Curricular units 1st sem (evaluations)         | int64   | [0 , 45] \n",
      "Curricular units 1st sem (approved)            | int64   | [0 , 26] \n",
      "Curricular units 1st sem (grade)               | float64 | [0.0 , 18.875] \n",
      "Curricular units 1st sem (without evaluations) | int64   | [0 , 12] \n",
      "Curricular units 2nd sem (credited)            | int64   | [0 , 19] \n",
      "Curricular units 2nd sem (enrolled)            | int64   | [0 , 23] \n",
      "Curricular units 2nd sem (evaluations)         | int64   | [0 , 33] \n",
      "Curricular units 2nd sem (approved)            | int64   | [0 , 20] \n",
      "Curricular units 2nd sem (grade)               | float64 | [0.0 , 18.57142857] \n",
      "Curricular units 2nd sem (without evaluations) | int64   | [0 , 12] \n",
      "Unemployment rate                              | float64 | [7.6 , 16.2] \n",
      "Inflation rate                                 | float64 | [-0.8 , 3.7] \n",
      "GDP                                            | float64 | [-4.06 , 3.51] \n",
      "class                                          | object  | [Dropout , Graduate] \n"
     ]
    }
   ],
   "source": [
    "# Check atribute types and values interval\n",
    "for name, dtype in data.dtypes.iteritems():\n",
    "    print(\"{} | {} | [{} , {}] \".format(name.ljust(46), str(dtype).ljust(7), data[name].min(), data[name].max()))"
   ]
  },
  {
   "cell_type": "code",
   "execution_count": null,
   "metadata": {},
   "outputs": [],
   "source": [
    "# Data size\n",
    "print(\"Data Size: {}\".format(len(data)))"
   ]
  },
  {
   "cell_type": "code",
   "execution_count": null,
   "metadata": {},
   "outputs": [],
   "source": [
    "# Check if there are columns with N/A values\n",
    "print(\"N/A values found: {}\".format(data.isnull().values.any()))"
   ]
  },
  {
   "cell_type": "code",
   "execution_count": null,
   "metadata": {},
   "outputs": [],
   "source": [
    "# Check if there are duplicated Data\n",
    "bool_series = data.duplicated()\n",
    "print(bool_series)\n",
    "\n",
    "old_size = len(data)\n",
    "\n",
    "# Removing all duplicated data if exists\n",
    "data = data[~bool_series] \n",
    "\n",
    "new_size = len(data)\n",
    "\n",
    "# check if there were actualy duplicated data\n",
    "print()\n",
    "if (new_size == old_size):\n",
    "    print(\"No data was removed: there were no duplicated data\")\n",
    "else:\n",
    "    print(\"Was found and removed {} duplicated data\".format(old_size-new_size))"
   ]
  },
  {
   "cell_type": "code",
   "execution_count": null,
   "metadata": {
    "scrolled": true
   },
   "outputs": [],
   "source": [
    "# Resultant data without duplicated entries\n",
    "data"
   ]
  },
  {
   "cell_type": "code",
   "execution_count": null,
   "metadata": {},
   "outputs": [],
   "source": [
    "# Histogram for each feture values and respective count of classses\n",
    "\n",
    "def count_targets_for_each_value(data, feat):\n",
    "    data_aux = data[[feat, \"class\"]]\n",
    "    d = {}\n",
    "    for line in data_aux.values:\n",
    "        if not line[0] in d:\n",
    "            d[line[0]] = {classes[0]: 0, classes[1]: 0, classes[2]: 0}\n",
    "        d[line[0]][line[1]] += 1\n",
    "\n",
    "    for entry in d.keys():\n",
    "        d[entry] = [d[entry][c] for c in classes]\n",
    "    aux = pd.DataFrame(d, index=classes)\n",
    "    return aux.reindex(sorted(aux.columns), axis=1)\n",
    "\n",
    "\n",
    "for i in range(36):\n",
    "    plt.title(metrics[i])\n",
    "    plt.hist(data[metrics[i]].values)\n",
    "    plt.show()\n",
    "    print(count_targets_for_each_value(data, metrics[i]))"
   ]
  },
  {
   "cell_type": "code",
   "execution_count": 8,
   "metadata": {},
   "outputs": [
    {
     "name": "stdout",
     "output_type": "stream",
     "text": [
      "Number of 'Graduate' occurences: 2209\n",
      "Number of 'Dropout' occurences: 1421\n",
      "Number of 'Enrolled' occurences: 794\n",
      "\n",
      "      class  count\n",
      "0  Graduate   2209\n",
      "1   Dropout   1421\n",
      "2  Enrolled    794\n"
     ]
    },
    {
     "data": {
      "image/png": "[encoded data removed]",
      "text/plain": [
       "<Figure size 432x288 with 1 Axes>"
      ]
     },
     "metadata": {
      "needs_background": "light"
     },
     "output_type": "display_data"
    },
    {
     "data": {
      "image/png": "[encoded data removed]",
      "text/plain": [
       "<Figure size 432x288 with 1 Axes>"
      ]
     },
     "metadata": {},
     "output_type": "display_data"
    }
   ],
   "source": [
    "# Class Distribution\n",
    "# Check data balance\n",
    "n_graduate = data['class'].value_counts().Graduate\n",
    "n_dropouts = data['class'].value_counts().Dropout\n",
    "n_enrroled = data['class'].value_counts().Enrolled\n",
    "print(\"Number of 'Graduate' occurences: {}\".format(n_graduate))\n",
    "print(\"Number of 'Dropout' occurences: {}\".format(n_dropouts))\n",
    "print(\"Number of 'Enrolled' occurences: {}\".format(n_enrroled))\n",
    "print()\n",
    "\n",
    "# Corresponding plot \n",
    "count_result = pd.DataFrame(data[\"class\"]).value_counts().rename_axis(\"class\").reset_index(name=\"count\")\n",
    "print(count_result)\n",
    "\n",
    "# Bar plot\n",
    "plot_count_res = sb.barplot(data=count_result, x=\"count\", y=\"class\")\n",
    "plt.show()\n",
    "\n",
    "# Pie plot with percentages\n",
    "plt.pie([n_graduate, n_dropouts, n_enrroled], autopct = '%0.00f%%')\n",
    "plt.show()"
   ]
  },
  {
   "cell_type": "markdown",
   "metadata": {},
   "source": [
    "Analisando a distribuição de cada atributo pelas classes possíveis, podemos concluir que existem alguns atributos irrelevantes, na medida que não se distingue à priori nem se obtem qualquer informação sobre qual a classe mais provável para uma nova amostra com base no valor desse atributo, como conseguimos identifificar no caso do atributo 'Curricular units 2nd sem (credited)'"
   ]
  },
  {
   "cell_type": "code",
   "execution_count": null,
   "metadata": {},
   "outputs": [],
   "source": [
    "# Distribution of each attribute \n",
    "def densityPlot(x, hue, fill):\n",
    "    sb.displot(data, x=x, hue=hue, kind=\"kde\", fill=fill)\n",
    "    \n",
    "# all 36 distinct attributes\n",
    "attributes = list(data.columns)\n",
    "attributes.remove(\"class\")\n",
    "    \n",
    "for attribute in attributes:\n",
    "    densityPlot(attribute, 'class', True)"
   ]
  },
  {
   "cell_type": "markdown",
   "metadata": {},
   "source": [
    "**Propriedades do Problema:** (a partir da análise dos dados de entrada)\n",
    "\n",
    "- Nominal and Discrete attributes (including some binary ones)\n",
    "- Dimensionality = 37 attibutos\n",
    "- Size = 4424\n",
    "- Type = Data Matrix\n",
    "- No missing or duplicate Data\n",
    "- No meaningful outliers\n",
    "- Imbalance data"
   ]
  },
  {
   "cell_type": "markdown",
   "metadata": {},
   "source": [
    "## Pré-processamento dos dados\n",
    "\n",
    "Tendo em conta as conclusões obtidas pela a análise dos dados originais mostrada anteriormente, podemos apercebermo-nos que é necessário realizar um pré-processamento dos dados, com o objetivo de resolver o maior problema adjacente a estes: a falta de balanceamento entre as diferentes classes de alvo. \n",
    "\n",
    "Para tal podemos usar entre outras estratégias uma das seguintes:\n",
    "- **oversampling** : «Aumentar o número de amostras/entradas da menor classe até coincidir com o tamanho da maior classe»\n",
    "- **undersampling** : «Diminuir o número de amostras/entradas da maior classe até coincidir com o tamanho da menor classe»\n",
    "\n",
    "Em qualquer uma das abordagens acima, a escolha das amostras escolhidas para serem retidas ou replicadas com pequenas modificações é aleatória."
   ]
  },
  {
   "cell_type": "code",
   "execution_count": 26,
   "metadata": {},
   "outputs": [],
   "source": [
    "from sklearn.preprocessing import StandardScaler\n",
    "\n",
    "scaler = StandardScaler()\n",
    "stand_values = scaler.fit_transform(values)\n",
    "\n",
    "stand_values_df = pd.DataFrame(\n",
    "    scaled_values, \n",
    "    index=data.index, \n",
    "    columns=metrics)\n",
    "stand_values_df['class'] = targets"
   ]
  },
  {
   "cell_type": "markdown",
   "metadata": {},
   "source": [
    "### Undersampling\n",
    "\n",
    "Uma das técnicas para lidar com o desbalanceamento de classes em machine lerning é chamado de *undersampling*. Esta técnica de balanceamento consiste em remover algumas observações das classes majoritárias, até que as classes majoritárias e minoritárias sejam equilibradas. A técnica *undersampling* pode ser uma boa escolha quando temos dados desequilibrados, mas uma desvantagem é que removemos informações que podem ser valiosas.\n",
    "\n",
    "Para remover as observações das classes majoritárias, usamos a função `sample(sequence, k)`, uma função do módulo `Random` de Python, que retorna uma lista de comprimento `k` de itens escolhidos aleatoriamente de `sequence`."
   ]
  },
  {
   "cell_type": "code",
   "execution_count": null,
   "metadata": {},
   "outputs": [],
   "source": [
    "# Imbalance Original Data\n",
    "print(\"Classes count:\")\n",
    "print(data['class'].value_counts())\n",
    "\n",
    "data['class'].value_counts().plot(kind='bar', title='count (target)')"
   ]
  },
  {
   "cell_type": "code",
   "execution_count": null,
   "metadata": {},
   "outputs": [],
   "source": [
    "class_graduate = data[data['class'] == \"Graduate\"]\n",
    "class_dropout = data[data['class'] == \"Dropout\"]\n",
    "class_enrolled = data[data['class'] == \"Enrolled\"]\n",
    "\n",
    "class_dropout_under = class_dropout.sample(n_enrroled, replace=True)\n",
    "class_graduate_under = class_graduate.sample(n_enrroled, replace=True)"
   ]
  },
  {
   "cell_type": "markdown",
   "metadata": {},
   "source": [
    "Agora temos os nossos dados balanceados, como é possível observer no gráfico criado pelo código abaixo."
   ]
  },
  {
   "cell_type": "code",
   "execution_count": null,
   "metadata": {
    "scrolled": true
   },
   "outputs": [],
   "source": [
    "data_under = pd.concat([class_dropout_under, class_graduate_under, class_enrolled], axis=0)\n",
    "\n",
    "# plot the count after under-sampeling\n",
    "print(\"Classes count after under-sampling:\")\n",
    "print(data_under['class'].value_counts())\n",
    "\n",
    "data_under['class'].value_counts().plot(kind='bar', title='count (target)')"
   ]
  },
  {
   "cell_type": "code",
   "execution_count": null,
   "metadata": {},
   "outputs": [],
   "source": [
    "# Save to file\n",
    "if SAVE_FILE: data_under.to_csv(\"data/data_under.csv\", index=False)"
   ]
  },
  {
   "cell_type": "markdown",
   "metadata": {},
   "source": [
    "### Oversampling\n",
    "\n",
    "// TODO AQUI -> improve description\n",
    "Segue o seguinte esquema: [incluir imagem significativa]\n",
    "\n",
    "As entradas da classe menor sáo replicadas até totalizarem o número de amostras da classe maior."
   ]
  },
  {
   "cell_type": "code",
   "execution_count": null,
   "metadata": {},
   "outputs": [],
   "source": [
    "# Imbalance Original Data\n",
    "unbalanced_count = data['class'].value_counts()\n",
    "unbalanced_count.plot.bar()\n",
    "plt.show()"
   ]
  },
  {
   "cell_type": "code",
   "execution_count": null,
   "metadata": {},
   "outputs": [],
   "source": [
    "# Separate count and samples by the diferent classes\n",
    "graduate_count, dropout_count, enrolled_count = data['class'].value_counts()\n",
    "\n",
    "print(\"GRADUATE: {} | DROPOUT: {} | ENROLLED: {}\".format(graduate_count, dropout_count, enrolled_count))\n",
    "\n",
    "graduate_samples = data[data['class'] == \"Graduate\"]\n",
    "dropout_samples = data[data['class'] == \"Dropout\"]\n",
    "enrolled_samples = data[data['class'] == \"Enrolled\"]"
   ]
  },
  {
   "cell_type": "markdown",
   "metadata": {},
   "source": [
    "#### Random Over-Sampling\n",
    "\n",
    "«Oversampling can be defined as adding more copies to the minority class.»\n",
    "\n",
    "**Disvantagens:** pode causar *overfitting* e pobre generalização do conjunto de dados para teste."
   ]
  },
  {
   "cell_type": "code",
   "execution_count": null,
   "metadata": {
    "scrolled": true
   },
   "outputs": [],
   "source": [
    "# number of the smallest to the larger ones\n",
    "dropout_samples_over = dropout_samples.sample(graduate_count, replace=True)\n",
    "enrolled_samples_over = enrolled_samples.sample(graduate_count, replace=True)\n",
    "\n",
    "data_over = pd.concat([graduate_samples, dropout_samples_over, enrolled_samples_over], axis=0)\n",
    "\n",
    "print(\"Total dintinct classes: \\n{}\".format(data_over['class'].value_counts()))\n",
    "\n",
    "rnd_oversampling_count = data_over['class'].value_counts()\n",
    "rnd_oversampling_count.plot.bar()\n",
    "plt.show()"
   ]
  },
  {
   "cell_type": "code",
   "execution_count": null,
   "metadata": {},
   "outputs": [],
   "source": [
    "# Save to file\n",
    "if SAVE_FILE: data_over.to_csv(\"data/data_over.csv\", index=False)"
   ]
  },
  {
   "cell_type": "markdown",
   "metadata": {},
   "source": [
    "#### Synthetic Minority Oversampling Technique (SMOTE)\n",
    "\n",
    "// TODO AQUI - NOT WORKING"
   ]
  },
  {
   "cell_type": "code",
   "execution_count": null,
   "metadata": {},
   "outputs": [],
   "source": [
    "import imblearn\n",
    "\n",
    "from imblearn.over_sampling import RandomOverSampler\n",
    "\n",
    "ros = RandomOverSampler(random_state=42)\n",
    "# TODO find want is supposted to be x and y \n",
    "x_ros, y_ros = ros.fit_resample(x, y)\n",
    "\n",
    "print('Original dataset shape', Counter(y))\n",
    "print('Resample dataset shape', Counter(y_ros))\n",
    "\n",
    "\n",
    "from imblearn.over_sampling import SMOTE\n",
    "\n",
    "smote = SMOTE()\n",
    "# fit predictor and target variable\n",
    "x_smote, y_smote = smote.fit_resample(x, y)\n",
    "\n",
    "print('Original dataset shape', Counter(y))\n",
    "print('Resample dataset shape', Counter(y_ros))"
   ]
  },
  {
   "cell_type": "markdown",
   "metadata": {},
   "source": [
    "É importante referir que nenhuma das soluções acima é uma solução perfeita, pois a aplicação de undersampling pode inplicar a perda de infromação, da mesma forma que a aplicação de oversampling (sem qualquer modificação das amostras escolhidas aleatóriamente para serem replicadas) pode levar a um posterior overfitting dos modelos gerados a estes novos dados.\n",
    "\n",
    "\n",
    "#### Combine under and over sampling\n",
    "\n",
    "Tendo isto em conta a seguinte tentativa tenta encontrar um meio termos entre as soluções anteriores, fazendo as classes em questão convergir para um valor mediano e não para um máximo nem minímo, tentando combater as consequencias sentidas nos dados ao aplicar isoladamente cada uma das estratégias, obtando por alcaçar um meio termo."
   ]
  },
  {
   "cell_type": "code",
   "execution_count": null,
   "metadata": {},
   "outputs": [],
   "source": [
    "# make the counts meet at the middle point\n",
    "# in this case the middle point is consider to be the dropout class\n",
    "graduate_samples_middle = graduate_samples.sample(droupout_count, replace=True)\n",
    "enrolled_samples_middle = enrolled_samples.sample(droupout_count, replace=True)\n",
    "\n",
    "data_under_over = pd.concat([graduate_samples_middle, droupout_samples, enrolled_samples_middle], axis=0)\n",
    "\n",
    "print(\"Total dintinct classes: \\n{}\".format(data_under_over['class'].value_counts()))\n",
    "\n",
    "under_over_count = data_under_over['class'].value_counts()\n",
    "under_over_count.plot.bar()\n",
    "plt.show()"
   ]
  },
  {
   "cell_type": "code",
   "execution_count": null,
   "metadata": {},
   "outputs": [],
   "source": [
    "# Save to file\n",
    "if SAVE_FILE: data_under.to_csv(\"data/data_under_over.csv\", i)"
   ]
  },
  {
   "cell_type": "markdown",
   "metadata": {},
   "source": [
    "## Learning Algorithms\n",
    "\n",
    "### Identification of the Target Concept\n",
    "\n",
    "// TODO AQUI"
   ]
  },
  {
   "cell_type": "code",
   "execution_count": 29,
   "metadata": {},
   "outputs": [],
   "source": [
    "#data = pd.read_csv('data/data_over.csv')\n",
    "data = scaled_values_df\n",
    "values = list(data[list(data.columns[:-1])].values)\n",
    "targets = list(data['class'].values)"
   ]
  },
  {
   "cell_type": "markdown",
   "metadata": {},
   "source": [
    "### Validation"
   ]
  },
  {
   "cell_type": "markdown",
   "metadata": {},
   "source": [
    "#### Train test split"
   ]
  },
  {
   "cell_type": "code",
   "execution_count": 39,
   "metadata": {},
   "outputs": [],
   "source": [
    "from sklearn.model_selection import train_test_split\n",
    "def split_data(data, classes, test_size):\n",
    "  feat_train, feat_test, target_train, target_test = train_test_split(data, classes, test_size=test_size, shuffle=True)\n",
    "  return feat_train, feat_test, target_train, target_test"
   ]
  },
  {
   "cell_type": "markdown",
   "metadata": {},
   "source": [
    "#### Cross validation"
   ]
  },
  {
   "cell_type": "code",
   "execution_count": 40,
   "metadata": {},
   "outputs": [],
   "source": [
    "from sklearn.model_selection import cross_val_score\n",
    "def cross_validation(model, features, targets, cv):\n",
    "    scores = cross_val_score(model, features, targets, cv=cv)\n",
    "    return scores"
   ]
  },
  {
   "cell_type": "markdown",
   "metadata": {},
   "source": [
    "#### Confusion Matrix"
   ]
  },
  {
   "cell_type": "code",
   "execution_count": 55,
   "metadata": {},
   "outputs": [],
   "source": [
    "from sklearn.metrics import confusion_matrix, ConfusionMatrixDisplay\n",
    "def confusion_matrix(target_test, target_predictions):    \n",
    "    return metrics.confusion_matrix(target_test, target_predictions)\n",
    "\n",
    "def display_confusion_matrix(cm):\n",
    "    metrics.ConfusionMatrixDisplay(cm, display_labels=classes).plot()"
   ]
  },
  {
   "cell_type": "markdown",
   "metadata": {},
   "source": [
    "#### Validate model"
   ]
  },
  {
   "cell_type": "code",
   "execution_count": 56,
   "metadata": {},
   "outputs": [],
   "source": [
    "from sklearn import metrics\n",
    "\n",
    "def precision(cm, i):\n",
    "    return cm[i][i]/sum(cm[i])\n",
    "\n",
    "def recall(cm, i):\n",
    "    cmt = np.copy(cm).transpose()\n",
    "    return cmt[i][i]/sum(cmt[i])\n",
    "\n",
    "def validate(model, features, targets):\n",
    "    test_size = 0.2\n",
    "    cross_validation_split = 5\n",
    "    feat_train, feat_test, target_train, target_test = split_data(features, targets, test_size=test_size)\n",
    "    \n",
    "    model.fit(feat_train, target_train)\n",
    "    predictions = model.predict(feat_test)\n",
    "    \n",
    "    acc = metrics.accuracy_score(target_test, predictions)\n",
    "    print(\"Accuracy: {:.2f}\\n\".format(acc*100))\n",
    "    \n",
    "    cm = confusion_matrix(target_test, predictions)\n",
    "    print(\"Precision:\")\n",
    "    for i in range(3): print(\"\\t{:.2f}% - {}\".format(precision(cm, i)*100, classes[i]))\n",
    "    print(\"Recall:\")\n",
    "    for i in range(3): print(\"\\t{:.2f}% - {}\".format(recall(cm, i)*100, classes[i]))\n",
    "    \n",
    "    display_confusion_matrix(cm)\n",
    "    \n",
    "    scores = cross_validation(model, features, targets, cross_validation_split)\n",
    "    print(\"Cross validation {}-fold: {}\".format(cross_validation_split, [round(x, 3) for x in scores]))\n",
    "    print(\"\\t{:.2f} accuracy with a standard deviation of {:.2f}\".format(scores.mean(), scores.std()))"
   ]
  },
  {
   "cell_type": "markdown",
   "metadata": {},
   "source": [
    "#### Selection and Parameterization of the learning algorithms to employ\n",
    "\n",
    ":: At least 3 supervised learning (classification) algorithms should be employed (Decision Trees, Neural Networks, KNN, SVM, …) "
   ]
  },
  {
   "cell_type": "markdown",
   "metadata": {},
   "source": [
    "### Algorithms"
   ]
  },
  {
   "cell_type": "markdown",
   "metadata": {},
   "source": [
    "#### Decision Tree Classifier"
   ]
  },
  {
   "cell_type": "code",
   "execution_count": 57,
   "metadata": {},
   "outputs": [
    {
     "name": "stdout",
     "output_type": "stream",
     "text": [
      "Accuracy: 74.35\n",
      "\n",
      "Precision:\n",
      "\t68.18% - Dropout\n",
      "\t39.16% - Enrolled\n",
      "\t88.28% - Graduate\n",
      "Recall:\n",
      "\t80.72% - Dropout\n",
      "\t40.00% - Enrolled\n",
      "\t80.84% - Graduate\n",
      "Cross validation 5-fold: [0.745, 0.768, 0.75, 0.73, 0.721]\n",
      "\t0.74 accuracy with a standard deviation of 0.02\n"
     ]
    },
    {
     "data": {
      "image/png": "[encoded data removed]",
      "text/plain": [
       "<Figure size 432x288 with 2 Axes>"
      ]
     },
     "metadata": {
      "needs_background": "light"
     },
     "output_type": "display_data"
    }
   ],
   "source": [
    "from sklearn.tree import DecisionTreeClassifier\n",
    "\n",
    "# Create the classifier\n",
    "dtc = DecisionTreeClassifier(\n",
    "  criterion=\"gini\", # criterion{“gini”, “entropy”, “log_loss”}, default=”gini”\n",
    "  splitter=\"best\", # splitter{“best”, “random”}, default=”best”\n",
    "  max_depth=5, \n",
    "  max_features=20, # max_featuresint, float or {“auto”, “sqrt”, “log2”}, default=None\n",
    "  max_leaf_nodes=None) # max_leaf_nodes: int, default=None\n",
    "validate(dtc, values, targets)"
   ]
  },
  {
   "cell_type": "code",
   "execution_count": null,
   "metadata": {},
   "outputs": [],
   "source": [
    "# Plot tree\n",
    "from sklearn.tree import plot_tree\n",
    "plot_tree(dtc)"
   ]
  },
  {
   "cell_type": "code",
   "execution_count": null,
   "metadata": {},
   "outputs": [],
   "source": [
    "# Create PDF with the tree\n",
    "import graphviz\n",
    "from sklearn.tree import export_graphviz\n",
    "\n",
    "dot_data = export_graphviz(dtc, out_file=None, feature_names=labels, class_names=targets ) \n",
    "graph = graphviz.Source(dot_data) \n",
    "graph.render(\"decision_tree\") "
   ]
  },
  {
   "cell_type": "markdown",
   "metadata": {},
   "source": [
    "#### K-nearest Neighbour"
   ]
  },
  {
   "cell_type": "code",
   "execution_count": 18,
   "metadata": {},
   "outputs": [
    {
     "name": "stdout",
     "output_type": "stream",
     "text": [
      "Accuracy: 63.50\n",
      "\n",
      "[[186  56  53]\n",
      " [ 37  51  79]\n",
      " [ 48  50 325]]\n",
      "Precision:\n",
      "\t63.05% - Dropout\n",
      "\t30.54% - Enrolled\n",
      "\t76.83% - Graduate\n",
      "Recall:\n",
      "\t68.63% - Dropout\n",
      "\t32.48% - Enrolled\n",
      "\t71.12% - Graduate\n",
      "Cross validation: 0.65 accuracy with a standard deviation of 0.01\n"
     ]
    },
    {
     "data": {
      "image/png": "[encoded data removed]",
      "text/plain": [
       "<Figure size 432x288 with 2 Axes>"
      ]
     },
     "metadata": {
      "needs_background": "light"
     },
     "output_type": "display_data"
    }
   ],
   "source": [
    "from sklearn.neighbors import KNeighborsClassifier\n",
    "\n",
    "n_neighbors = 1\n",
    "\n",
    "knc = KNeighborsClassifier(n_neighbors,weights=\"uniform\")\n",
    "validate(knc, values, targets)"
   ]
  },
  {
   "cell_type": "code",
   "execution_count": null,
   "metadata": {},
   "outputs": [],
   "source": [
    "from matplotlib.colors import ListedColormap\n",
    "from sklearn import neighbors, datasets\n",
    "from sklearn.inspection import DecisionBoundaryDisplay\n",
    "'''\n",
    "_, ax = plt.subplots()\n",
    "DecisionBoundaryDisplay.from_estimator(\n",
    "    clf,\n",
    "    X=np.array([line[:2] for line in data_train]),\n",
    "    ax=ax,\n",
    "    response_method=\"predict\",\n",
    "    plot_method=\"pcolormesh\",\n",
    "    shading=\"auto\",\n",
    ")\n",
    "\n",
    "sns.scatterplot(\n",
    "        x=data[labels[0]],\n",
    "        y=data[labels[1]],\n",
    "        alpha=1.0,\n",
    "        edgecolor=\"black\",\n",
    "    )\n",
    "plt.show()\n",
    "'''"
   ]
  },
  {
   "cell_type": "markdown",
   "metadata": {},
   "source": [
    "#### Neural Network"
   ]
  },
  {
   "cell_type": "code",
   "execution_count": 23,
   "metadata": {},
   "outputs": [
    {
     "name": "stdout",
     "output_type": "stream",
     "text": [
      "Accuracy: 73.90\n",
      "\n",
      "Precision:\n",
      "\t69.66% - Dropout\n",
      "\t38.55% - Enrolled\n",
      "\t90.44% - Graduate\n",
      "Recall:\n",
      "\t82.45% - Dropout\n",
      "\t45.07% - Enrolled\n",
      "\t77.91% - Graduate\n",
      "Cross validation: 0.75 accuracy with a standard deviation of 0.01\n"
     ]
    },
    {
     "data": {
      "image/png": "[encoded data removed]",
      "text/plain": [
       "<Figure size 432x288 with 2 Axes>"
      ]
     },
     "metadata": {
      "needs_background": "light"
     },
     "output_type": "display_data"
    }
   ],
   "source": [
    "from sklearn.neural_network import MLPClassifier\n",
    "\n",
    "nnc = MLPClassifier(\n",
    "    solver='lbfgs', \n",
    "    alpha=1e-5,\n",
    "    hidden_layer_sizes=(5, 2),\n",
    "    max_iter=5000,\n",
    "    random_state=1)\n",
    "\n",
    "validate(nnc, values, targets)"
   ]
  },
  {
   "cell_type": "markdown",
   "metadata": {},
   "source": [
    "#### Evaluation of the learning process\n",
    "\n",
    ":: compared using appropriate evaluation\n",
    "metrics (performance during learning, confusion matrix, precision, recall, accuracy, F1 measure) and the time\n",
    "spent to train/test the models.\n",
    "(in particular on the test set)\n",
    "\n",
    ":: compared using the Scikit-Learn Python library and considering\n",
    "the characteristics of the dataset."
   ]
  },
  {
   "cell_type": "markdown",
   "metadata": {},
   "source": [
    "#### Results Comparision\n",
    "\n",
    ":: Results should be compared using tables or plots (e.g., using Seaborn or\n",
    "Matplotlib libraries)."
   ]
  }
 ],
 "metadata": {
  "interpreter": {
   "hash": "b4dbf65eb2934af93dfe8402dc5043295a9b874b2f4a935919e1627f38520e4d"
  },
  "kernelspec": {
   "display_name": "Python 3",
   "language": "python",
   "name": "python3"
  },
  "language_info": {
   "codemirror_mode": {
    "name": "ipython",
    "version": 3
   },
   "file_extension": ".py",
   "mimetype": "text/x-python",
   "name": "python",
   "nbconvert_exporter": "python",
   "pygments_lexer": "ipython3",
   "version": "3.8.5"
  }
 },
 "nbformat": 4,
 "nbformat_minor": 5
}
