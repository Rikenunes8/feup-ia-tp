{
 "cells": [
  {
   "cell_type": "code",
   "execution_count": null,
   "metadata": {},
   "outputs": [],
   "source": [
    "# Imports\n",
    "import pandas as pd\n",
    "import numpy as np\n",
    "import matplotlib.pyplot as plt\n",
    "import seaborn as sb"
   ]
  },
  {
   "cell_type": "code",
   "execution_count": null,
   "metadata": {},
   "outputs": [],
   "source": [
    "# Load data\n",
    "data = pd.read_csv(\"data/data.csv\")"
   ]
  },
  {
   "cell_type": "code",
   "execution_count": null,
   "metadata": {},
   "outputs": [],
   "source": [
    "# Print head values and summary statistics\n",
    "print(data.head())\n",
    "print()\n",
    "print(data.describe())\n",
    "print()"
   ]
  },
  {
   "cell_type": "code",
   "execution_count": null,
   "metadata": {},
   "outputs": [],
   "source": [
    "labels = list(data.columns[:-1]) # Last element is the target column\n",
    "values = list(data[labels].values)\n",
    "targets = list(data[\"class\"].values)\n",
    "target_set = set(targets)\n",
    "\n",
    "print(labels)\n",
    "print(target_set)\n",
    "print(values)\n",
    "print(targets)\n"
   ]
  },
  {
   "cell_type": "markdown",
   "metadata": {},
   "source": [
    "# Train test split"
   ]
  },
  {
   "cell_type": "code",
   "execution_count": null,
   "metadata": {},
   "outputs": [],
   "source": [
    "from sklearn.model_selection import train_test_split\n",
    "def split_data(data, classes, test_size):\n",
    "  data_train, data_test, target_train, target_test = train_test_split(data, classes, test_size=test_size, shuffle=False)\n",
    "  return data_train, data_test, target_train, target_test\n"
   ]
  },
  {
   "cell_type": "markdown",
   "metadata": {},
   "source": [
    "# Decision Tree Classifier"
   ]
  },
  {
   "cell_type": "markdown",
   "metadata": {},
   "source": [
    "### Train and Score"
   ]
  },
  {
   "cell_type": "code",
   "execution_count": null,
   "metadata": {},
   "outputs": [],
   "source": [
    "from sklearn.tree import DecisionTreeClassifier\n",
    "\n",
    "# Create the classifier\n",
    "decision_tree_classifier = DecisionTreeClassifier(\n",
    "  criterion=\"gini\", # criterion{“gini”, “entropy”, “log_loss”}, default=”gini”\n",
    "  splitter=\"best\", # splitter{“best”, “random”}, default=”best”\n",
    "  max_depth=5, \n",
    "  max_features=None, # max_featuresint, float or {“auto”, “sqrt”, “log2”}, default=None\n",
    "  max_leaf_nodes=None) # max_leaf_nodes: int, default=None\n",
    "\n",
    "data_train, data_test, target_train, target_test = split_data(values, targets, 0.80)\n",
    "\n",
    "# Train the classifier on the training set\n",
    "decision_tree_classifier = decision_tree_classifier.fit(data_train, target_train)\n",
    "\n",
    "# Validate the classifier on the testing set using classification accuracy\n",
    "decision_tree_classifier.score(data_test, target_test)"
   ]
  },
  {
   "cell_type": "markdown",
   "metadata": {},
   "source": [
    "### Plots"
   ]
  },
  {
   "cell_type": "code",
   "execution_count": null,
   "metadata": {},
   "outputs": [],
   "source": [
    "# Plot tree\n",
    "from sklearn.tree import plot_tree\n",
    "plot_tree(decision_tree_classifier)"
   ]
  },
  {
   "cell_type": "code",
   "execution_count": null,
   "metadata": {},
   "outputs": [],
   "source": [
    "# Create PDF with the tree\n",
    "import graphviz\n",
    "from sklearn.tree import export_graphviz\n",
    "\n",
    "dot_data = export_graphviz(decision_tree_classifier, out_file=None, feature_names=labels, class_names=targets ) \n",
    "graph = graphviz.Source(dot_data) \n",
    "graph.render(\"decision_tree\") "
   ]
  }
 ],
 "metadata": {
  "interpreter": {
   "hash": "31f2aee4e71d21fbe5cf8b01ff0e069b9275f58929596ceb00d14d90e3e16cd6"
  },
  "kernelspec": {
   "display_name": "Python 3.8.10 64-bit",
   "language": "python",
   "name": "python3"
  },
  "language_info": {
   "codemirror_mode": {
    "name": "ipython",
    "version": 3
   },
   "file_extension": ".py",
   "mimetype": "text/x-python",
   "name": "python",
   "nbconvert_exporter": "python",
   "pygments_lexer": "ipython3",
   "version": "3.8.10"
  },
  "orig_nbformat": 4
 },
 "nbformat": 4,
 "nbformat_minor": 2
}
